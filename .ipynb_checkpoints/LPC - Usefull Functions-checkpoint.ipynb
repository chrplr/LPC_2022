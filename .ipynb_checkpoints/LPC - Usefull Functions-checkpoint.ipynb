{
 "cells": [
  {
   "cell_type": "markdown",
   "id": "868fca77",
   "metadata": {},
   "source": [
    "In this notebook you can find functions to:\n",
    "1) get the phonological LPC form of a word or a whole sentence\n",
    "\n",
    "2) get the number of LPC gestures of a word or a whole sentence\n",
    "\n",
    "3) get the code for each gesture\n",
    "\n",
    "you can use this functions by running the next code:"
   ]
  },
  {
   "cell_type": "code",
   "execution_count": 1,
   "id": "2a49d091",
   "metadata": {},
   "outputs": [
    {
     "ename": "SyntaxError",
     "evalue": "invalid syntax (Temp/ipykernel_20456/1035268942.py, line 17)",
     "output_type": "error",
     "traceback": [
      "\u001b[1;36m  File \u001b[1;32m\"C:\\Users\\hagar\\AppData\\Local\\Temp/ipykernel_20456/1035268942.py\"\u001b[1;36m, line \u001b[1;32m17\u001b[0m\n\u001b[1;33m    and then run: execute_notebook('LPC - Usefull Functions.ipynb')\u001b[0m\n\u001b[1;37m    ^\u001b[0m\n\u001b[1;31mSyntaxError\u001b[0m\u001b[1;31m:\u001b[0m invalid syntax\n"
     ]
    }
   ],
   "source": [
    "import io\n",
    "from IPython.nbformat import current\n",
    "\n",
    "def execute_notebook(nbfile):\n",
    "    \n",
    "    with io.open(nbfile) as f:\n",
    "        nb = current.read(f, 'json')\n",
    "    \n",
    "    ip = get_ipython()\n",
    "    \n",
    "    for cell in nb.worksheets[0].cells:\n",
    "        if cell.cell_type != 'code':\n",
    "            continue\n",
    "        ip.run_cell(cell.input)\n",
    "        \n",
    "        \n",
    "#and then run: \n",
    "#execute_notebook('LPC - Usefull Functions.ipynb')"
   ]
  },
  {
   "cell_type": "markdown",
   "id": "b8a5c2f9",
   "metadata": {},
   "source": [
    "General functions:"
   ]
  },
  {
   "cell_type": "code",
   "execution_count": 2,
   "id": "babb922d",
   "metadata": {},
   "outputs": [],
   "source": [
    "def get_number_of_words(sentence):\n",
    "    sentence = sentence.replace('-',' ')\n",
    "    w_lst = sentence.split(' ')\n",
    "    return len(w_lst)\n"
   ]
  },
  {
   "cell_type": "code",
   "execution_count": 3,
   "id": "97bad43e",
   "metadata": {},
   "outputs": [],
   "source": [
    "def get_number_of_letters(sentence):\n",
    "    sentence = sentence.lower()\n",
    "    replace_chars = [',','.',' ']\n",
    "    for replace_char in replace_chars:\n",
    "        sentence = sentence.replace(replace_char,'')\n",
    "    return len(sentence)\n",
    "    "
   ]
  },
  {
   "cell_type": "markdown",
   "id": "0edd6d70",
   "metadata": {},
   "source": [
    "# Get the phonological LPC form of a word or a whole sentence"
   ]
  },
  {
   "cell_type": "code",
   "execution_count": 4,
   "id": "f01c7a0d",
   "metadata": {},
   "outputs": [
    {
     "ename": "FileNotFoundError",
     "evalue": "[Errno 2] No such file or directory: 'Lexique380.utf8.csv'",
     "output_type": "error",
     "traceback": [
      "\u001b[1;31m---------------------------------------------------------------------------\u001b[0m",
      "\u001b[1;31mFileNotFoundError\u001b[0m                         Traceback (most recent call last)",
      "\u001b[1;32m~\\AppData\\Local\\Temp/ipykernel_20456/3781685391.py\u001b[0m in \u001b[0;36m<module>\u001b[1;34m\u001b[0m\n\u001b[0;32m      5\u001b[0m \u001b[1;33m\u001b[0m\u001b[0m\n\u001b[0;32m      6\u001b[0m \u001b[1;33m\u001b[0m\u001b[0m\n\u001b[1;32m----> 7\u001b[1;33m \u001b[0mlex\u001b[0m \u001b[1;33m=\u001b[0m \u001b[0mpd\u001b[0m\u001b[1;33m.\u001b[0m\u001b[0mread_csv\u001b[0m\u001b[1;33m(\u001b[0m\u001b[1;34m'Lexique380.utf8.csv'\u001b[0m\u001b[1;33m)\u001b[0m\u001b[1;33m\u001b[0m\u001b[1;33m\u001b[0m\u001b[0m\n\u001b[0m\u001b[0;32m      8\u001b[0m \u001b[0mlex\u001b[0m \u001b[1;33m=\u001b[0m \u001b[0mlex\u001b[0m\u001b[1;33m[\u001b[0m\u001b[1;33m(\u001b[0m\u001b[0mlex\u001b[0m\u001b[1;33m.\u001b[0m\u001b[0mortho\u001b[0m\u001b[1;33m.\u001b[0m\u001b[0mstr\u001b[0m\u001b[1;33m.\u001b[0m\u001b[0mcontains\u001b[0m\u001b[1;33m(\u001b[0m\u001b[1;34m'-| '\u001b[0m\u001b[1;33m)\u001b[0m \u001b[1;33m==\u001b[0m \u001b[1;32mFalse\u001b[0m\u001b[1;33m)\u001b[0m \u001b[1;33m&\u001b[0m \u001b[1;33m(\u001b[0m\u001b[0mlex\u001b[0m\u001b[1;33m.\u001b[0m\u001b[0mphon\u001b[0m\u001b[1;33m.\u001b[0m\u001b[0mstr\u001b[0m\u001b[1;33m.\u001b[0m\u001b[0mcontains\u001b[0m\u001b[1;33m(\u001b[0m\u001b[1;34m'°'\u001b[0m\u001b[1;33m)\u001b[0m \u001b[1;33m==\u001b[0m \u001b[1;32mFalse\u001b[0m\u001b[1;33m)\u001b[0m\u001b[1;33m]\u001b[0m  \u001b[1;31m# suppress schwa\u001b[0m\u001b[1;33m\u001b[0m\u001b[1;33m\u001b[0m\u001b[0m\n\u001b[0;32m      9\u001b[0m \u001b[0mlex\u001b[0m \u001b[1;33m=\u001b[0m \u001b[0mlex\u001b[0m\u001b[1;33m.\u001b[0m\u001b[0mdrop_duplicates\u001b[0m\u001b[1;33m(\u001b[0m\u001b[0msubset\u001b[0m\u001b[1;33m=\u001b[0m\u001b[1;34m'ortho'\u001b[0m\u001b[1;33m,\u001b[0m \u001b[0mkeep\u001b[0m\u001b[1;33m=\u001b[0m\u001b[1;34m\"first\"\u001b[0m\u001b[1;33m)\u001b[0m\u001b[1;33m\u001b[0m\u001b[1;33m\u001b[0m\u001b[0m\n",
      "\u001b[1;32m~\\anaconda3\\lib\\site-packages\\pandas\\util\\_decorators.py\u001b[0m in \u001b[0;36mwrapper\u001b[1;34m(*args, **kwargs)\u001b[0m\n\u001b[0;32m    309\u001b[0m                     \u001b[0mstacklevel\u001b[0m\u001b[1;33m=\u001b[0m\u001b[0mstacklevel\u001b[0m\u001b[1;33m,\u001b[0m\u001b[1;33m\u001b[0m\u001b[1;33m\u001b[0m\u001b[0m\n\u001b[0;32m    310\u001b[0m                 )\n\u001b[1;32m--> 311\u001b[1;33m             \u001b[1;32mreturn\u001b[0m \u001b[0mfunc\u001b[0m\u001b[1;33m(\u001b[0m\u001b[1;33m*\u001b[0m\u001b[0margs\u001b[0m\u001b[1;33m,\u001b[0m \u001b[1;33m**\u001b[0m\u001b[0mkwargs\u001b[0m\u001b[1;33m)\u001b[0m\u001b[1;33m\u001b[0m\u001b[1;33m\u001b[0m\u001b[0m\n\u001b[0m\u001b[0;32m    312\u001b[0m \u001b[1;33m\u001b[0m\u001b[0m\n\u001b[0;32m    313\u001b[0m         \u001b[1;32mreturn\u001b[0m \u001b[0mwrapper\u001b[0m\u001b[1;33m\u001b[0m\u001b[1;33m\u001b[0m\u001b[0m\n",
      "\u001b[1;32m~\\anaconda3\\lib\\site-packages\\pandas\\io\\parsers\\readers.py\u001b[0m in \u001b[0;36mread_csv\u001b[1;34m(filepath_or_buffer, sep, delimiter, header, names, index_col, usecols, squeeze, prefix, mangle_dupe_cols, dtype, engine, converters, true_values, false_values, skipinitialspace, skiprows, skipfooter, nrows, na_values, keep_default_na, na_filter, verbose, skip_blank_lines, parse_dates, infer_datetime_format, keep_date_col, date_parser, dayfirst, cache_dates, iterator, chunksize, compression, thousands, decimal, lineterminator, quotechar, quoting, doublequote, escapechar, comment, encoding, encoding_errors, dialect, error_bad_lines, warn_bad_lines, on_bad_lines, delim_whitespace, low_memory, memory_map, float_precision, storage_options)\u001b[0m\n\u001b[0;32m    584\u001b[0m     \u001b[0mkwds\u001b[0m\u001b[1;33m.\u001b[0m\u001b[0mupdate\u001b[0m\u001b[1;33m(\u001b[0m\u001b[0mkwds_defaults\u001b[0m\u001b[1;33m)\u001b[0m\u001b[1;33m\u001b[0m\u001b[1;33m\u001b[0m\u001b[0m\n\u001b[0;32m    585\u001b[0m \u001b[1;33m\u001b[0m\u001b[0m\n\u001b[1;32m--> 586\u001b[1;33m     \u001b[1;32mreturn\u001b[0m \u001b[0m_read\u001b[0m\u001b[1;33m(\u001b[0m\u001b[0mfilepath_or_buffer\u001b[0m\u001b[1;33m,\u001b[0m \u001b[0mkwds\u001b[0m\u001b[1;33m)\u001b[0m\u001b[1;33m\u001b[0m\u001b[1;33m\u001b[0m\u001b[0m\n\u001b[0m\u001b[0;32m    587\u001b[0m \u001b[1;33m\u001b[0m\u001b[0m\n\u001b[0;32m    588\u001b[0m \u001b[1;33m\u001b[0m\u001b[0m\n",
      "\u001b[1;32m~\\anaconda3\\lib\\site-packages\\pandas\\io\\parsers\\readers.py\u001b[0m in \u001b[0;36m_read\u001b[1;34m(filepath_or_buffer, kwds)\u001b[0m\n\u001b[0;32m    480\u001b[0m \u001b[1;33m\u001b[0m\u001b[0m\n\u001b[0;32m    481\u001b[0m     \u001b[1;31m# Create the parser.\u001b[0m\u001b[1;33m\u001b[0m\u001b[1;33m\u001b[0m\u001b[0m\n\u001b[1;32m--> 482\u001b[1;33m     \u001b[0mparser\u001b[0m \u001b[1;33m=\u001b[0m \u001b[0mTextFileReader\u001b[0m\u001b[1;33m(\u001b[0m\u001b[0mfilepath_or_buffer\u001b[0m\u001b[1;33m,\u001b[0m \u001b[1;33m**\u001b[0m\u001b[0mkwds\u001b[0m\u001b[1;33m)\u001b[0m\u001b[1;33m\u001b[0m\u001b[1;33m\u001b[0m\u001b[0m\n\u001b[0m\u001b[0;32m    483\u001b[0m \u001b[1;33m\u001b[0m\u001b[0m\n\u001b[0;32m    484\u001b[0m     \u001b[1;32mif\u001b[0m \u001b[0mchunksize\u001b[0m \u001b[1;32mor\u001b[0m \u001b[0miterator\u001b[0m\u001b[1;33m:\u001b[0m\u001b[1;33m\u001b[0m\u001b[1;33m\u001b[0m\u001b[0m\n",
      "\u001b[1;32m~\\anaconda3\\lib\\site-packages\\pandas\\io\\parsers\\readers.py\u001b[0m in \u001b[0;36m__init__\u001b[1;34m(self, f, engine, **kwds)\u001b[0m\n\u001b[0;32m    809\u001b[0m             \u001b[0mself\u001b[0m\u001b[1;33m.\u001b[0m\u001b[0moptions\u001b[0m\u001b[1;33m[\u001b[0m\u001b[1;34m\"has_index_names\"\u001b[0m\u001b[1;33m]\u001b[0m \u001b[1;33m=\u001b[0m \u001b[0mkwds\u001b[0m\u001b[1;33m[\u001b[0m\u001b[1;34m\"has_index_names\"\u001b[0m\u001b[1;33m]\u001b[0m\u001b[1;33m\u001b[0m\u001b[1;33m\u001b[0m\u001b[0m\n\u001b[0;32m    810\u001b[0m \u001b[1;33m\u001b[0m\u001b[0m\n\u001b[1;32m--> 811\u001b[1;33m         \u001b[0mself\u001b[0m\u001b[1;33m.\u001b[0m\u001b[0m_engine\u001b[0m \u001b[1;33m=\u001b[0m \u001b[0mself\u001b[0m\u001b[1;33m.\u001b[0m\u001b[0m_make_engine\u001b[0m\u001b[1;33m(\u001b[0m\u001b[0mself\u001b[0m\u001b[1;33m.\u001b[0m\u001b[0mengine\u001b[0m\u001b[1;33m)\u001b[0m\u001b[1;33m\u001b[0m\u001b[1;33m\u001b[0m\u001b[0m\n\u001b[0m\u001b[0;32m    812\u001b[0m \u001b[1;33m\u001b[0m\u001b[0m\n\u001b[0;32m    813\u001b[0m     \u001b[1;32mdef\u001b[0m \u001b[0mclose\u001b[0m\u001b[1;33m(\u001b[0m\u001b[0mself\u001b[0m\u001b[1;33m)\u001b[0m\u001b[1;33m:\u001b[0m\u001b[1;33m\u001b[0m\u001b[1;33m\u001b[0m\u001b[0m\n",
      "\u001b[1;32m~\\anaconda3\\lib\\site-packages\\pandas\\io\\parsers\\readers.py\u001b[0m in \u001b[0;36m_make_engine\u001b[1;34m(self, engine)\u001b[0m\n\u001b[0;32m   1038\u001b[0m             )\n\u001b[0;32m   1039\u001b[0m         \u001b[1;31m# error: Too many arguments for \"ParserBase\"\u001b[0m\u001b[1;33m\u001b[0m\u001b[1;33m\u001b[0m\u001b[0m\n\u001b[1;32m-> 1040\u001b[1;33m         \u001b[1;32mreturn\u001b[0m \u001b[0mmapping\u001b[0m\u001b[1;33m[\u001b[0m\u001b[0mengine\u001b[0m\u001b[1;33m]\u001b[0m\u001b[1;33m(\u001b[0m\u001b[0mself\u001b[0m\u001b[1;33m.\u001b[0m\u001b[0mf\u001b[0m\u001b[1;33m,\u001b[0m \u001b[1;33m**\u001b[0m\u001b[0mself\u001b[0m\u001b[1;33m.\u001b[0m\u001b[0moptions\u001b[0m\u001b[1;33m)\u001b[0m  \u001b[1;31m# type: ignore[call-arg]\u001b[0m\u001b[1;33m\u001b[0m\u001b[1;33m\u001b[0m\u001b[0m\n\u001b[0m\u001b[0;32m   1041\u001b[0m \u001b[1;33m\u001b[0m\u001b[0m\n\u001b[0;32m   1042\u001b[0m     \u001b[1;32mdef\u001b[0m \u001b[0m_failover_to_python\u001b[0m\u001b[1;33m(\u001b[0m\u001b[0mself\u001b[0m\u001b[1;33m)\u001b[0m\u001b[1;33m:\u001b[0m\u001b[1;33m\u001b[0m\u001b[1;33m\u001b[0m\u001b[0m\n",
      "\u001b[1;32m~\\anaconda3\\lib\\site-packages\\pandas\\io\\parsers\\c_parser_wrapper.py\u001b[0m in \u001b[0;36m__init__\u001b[1;34m(self, src, **kwds)\u001b[0m\n\u001b[0;32m     49\u001b[0m \u001b[1;33m\u001b[0m\u001b[0m\n\u001b[0;32m     50\u001b[0m         \u001b[1;31m# open handles\u001b[0m\u001b[1;33m\u001b[0m\u001b[1;33m\u001b[0m\u001b[0m\n\u001b[1;32m---> 51\u001b[1;33m         \u001b[0mself\u001b[0m\u001b[1;33m.\u001b[0m\u001b[0m_open_handles\u001b[0m\u001b[1;33m(\u001b[0m\u001b[0msrc\u001b[0m\u001b[1;33m,\u001b[0m \u001b[0mkwds\u001b[0m\u001b[1;33m)\u001b[0m\u001b[1;33m\u001b[0m\u001b[1;33m\u001b[0m\u001b[0m\n\u001b[0m\u001b[0;32m     52\u001b[0m         \u001b[1;32massert\u001b[0m \u001b[0mself\u001b[0m\u001b[1;33m.\u001b[0m\u001b[0mhandles\u001b[0m \u001b[1;32mis\u001b[0m \u001b[1;32mnot\u001b[0m \u001b[1;32mNone\u001b[0m\u001b[1;33m\u001b[0m\u001b[1;33m\u001b[0m\u001b[0m\n\u001b[0;32m     53\u001b[0m \u001b[1;33m\u001b[0m\u001b[0m\n",
      "\u001b[1;32m~\\anaconda3\\lib\\site-packages\\pandas\\io\\parsers\\base_parser.py\u001b[0m in \u001b[0;36m_open_handles\u001b[1;34m(self, src, kwds)\u001b[0m\n\u001b[0;32m    220\u001b[0m         \u001b[0mLet\u001b[0m \u001b[0mthe\u001b[0m \u001b[0mreaders\u001b[0m \u001b[0mopen\u001b[0m \u001b[0mIOHandles\u001b[0m \u001b[0mafter\u001b[0m \u001b[0mthey\u001b[0m \u001b[0mare\u001b[0m \u001b[0mdone\u001b[0m \u001b[1;32mwith\u001b[0m \u001b[0mtheir\u001b[0m \u001b[0mpotential\u001b[0m \u001b[0mraises\u001b[0m\u001b[1;33m.\u001b[0m\u001b[1;33m\u001b[0m\u001b[1;33m\u001b[0m\u001b[0m\n\u001b[0;32m    221\u001b[0m         \"\"\"\n\u001b[1;32m--> 222\u001b[1;33m         self.handles = get_handle(\n\u001b[0m\u001b[0;32m    223\u001b[0m             \u001b[0msrc\u001b[0m\u001b[1;33m,\u001b[0m\u001b[1;33m\u001b[0m\u001b[1;33m\u001b[0m\u001b[0m\n\u001b[0;32m    224\u001b[0m             \u001b[1;34m\"r\"\u001b[0m\u001b[1;33m,\u001b[0m\u001b[1;33m\u001b[0m\u001b[1;33m\u001b[0m\u001b[0m\n",
      "\u001b[1;32m~\\anaconda3\\lib\\site-packages\\pandas\\io\\common.py\u001b[0m in \u001b[0;36mget_handle\u001b[1;34m(path_or_buf, mode, encoding, compression, memory_map, is_text, errors, storage_options)\u001b[0m\n\u001b[0;32m    700\u001b[0m         \u001b[1;32mif\u001b[0m \u001b[0mioargs\u001b[0m\u001b[1;33m.\u001b[0m\u001b[0mencoding\u001b[0m \u001b[1;32mand\u001b[0m \u001b[1;34m\"b\"\u001b[0m \u001b[1;32mnot\u001b[0m \u001b[1;32min\u001b[0m \u001b[0mioargs\u001b[0m\u001b[1;33m.\u001b[0m\u001b[0mmode\u001b[0m\u001b[1;33m:\u001b[0m\u001b[1;33m\u001b[0m\u001b[1;33m\u001b[0m\u001b[0m\n\u001b[0;32m    701\u001b[0m             \u001b[1;31m# Encoding\u001b[0m\u001b[1;33m\u001b[0m\u001b[1;33m\u001b[0m\u001b[0m\n\u001b[1;32m--> 702\u001b[1;33m             handle = open(\n\u001b[0m\u001b[0;32m    703\u001b[0m                 \u001b[0mhandle\u001b[0m\u001b[1;33m,\u001b[0m\u001b[1;33m\u001b[0m\u001b[1;33m\u001b[0m\u001b[0m\n\u001b[0;32m    704\u001b[0m                 \u001b[0mioargs\u001b[0m\u001b[1;33m.\u001b[0m\u001b[0mmode\u001b[0m\u001b[1;33m,\u001b[0m\u001b[1;33m\u001b[0m\u001b[1;33m\u001b[0m\u001b[0m\n",
      "\u001b[1;31mFileNotFoundError\u001b[0m: [Errno 2] No such file or directory: 'Lexique380.utf8.csv'"
     ]
    }
   ],
   "source": [
    "# Openning lexique \n",
    "\n",
    "import numpy as np\n",
    "import pandas as pd\n",
    "\n",
    "\n",
    "lex = pd.read_csv('Lexique380.utf8.csv')\n",
    "lex = lex[(lex.ortho.str.contains('-| ') == False) & (lex.phon.str.contains('°') == False)]  # suppress schwa\n",
    "lex = lex.drop_duplicates(subset='ortho', keep=\"first\")\n",
    "lex = lex[['ortho','phon', 'p_cvcv','nbhomogr','cv-cv','syll']]\n",
    "dic = lex.set_index('ortho').to_dict()\n",
    "\n",
    "p_dic = dic['p_cvcv']\n",
    "n_dic = dic['nbhomogr']\n",
    "cv_dic = dic['cv-cv']\n",
    "p_cv_dic = dic['syll']\n",
    "phon_dic = dic['phon']\n",
    "\n",
    "lex['cv-div'] = lex['cv-cv'].apply(lambda x: x.split('-'))"
   ]
  },
  {
   "cell_type": "code",
   "execution_count": null,
   "id": "62e69480",
   "metadata": {},
   "outputs": [],
   "source": [
    "# number of gestures of each syll\n",
    "\n",
    "dev_syl = pd.read_csv('lpc_syl_configurations.csv')\n",
    "dev_syl['lpc_n'] = dev_syl['LPC_config'].apply(lambda x: x.split('-'))\n",
    "dev_syl['lpc_n'] = dev_syl['lpc_n'].apply(lambda x: len(x))\n",
    "\n",
    "dic2 = dev_syl.set_index('spoken_config').to_dict()\n",
    "g_cv_dic = dic2['LPC_config']\n",
    "syl_dic = dic2['lpc_n']\n",
    "\n",
    "print(syl_dic)"
   ]
  },
  {
   "cell_type": "code",
   "execution_count": null,
   "id": "93390120",
   "metadata": {},
   "outputs": [],
   "source": [
    "def get_LPC_cv(word):\n",
    "    LPC_cv = ''    \n",
    "    if word in cv_dic:\n",
    "        cv_lst = cv_dic[word].split('-')\n",
    "        for syl in cv_lst:\n",
    "            LPC_cv = LPC_cv + g_cv_dic[syl] + '-'\n",
    "        return LPC_cv[:-1]\n",
    "\n",
    "    else: \n",
    "        return word"
   ]
  },
  {
   "cell_type": "code",
   "execution_count": null,
   "id": "aa71a7ee",
   "metadata": {},
   "outputs": [],
   "source": [
    "def get_LPC_p(word):\n",
    "    lpc_cv = get_LPC_cv(word)\n",
    "    new_word = ''\n",
    "    phon = phon_dic[word]\n",
    "    if lpc_cv == cv_dic[word]:\n",
    "        return p_cv_dic[word]\n",
    "    else:\n",
    "        l_lpc = lpc_cv.split('-')\n",
    "        for syl in l_lpc:\n",
    "            new_word += phon[:len(syl)]+'-'\n",
    "            phon = phon[len(syl):]\n",
    "        return new_word[:-1]\n"
   ]
  },
  {
   "cell_type": "code",
   "execution_count": null,
   "id": "11697daa",
   "metadata": {},
   "outputs": [],
   "source": [
    "def get_LPC_p_sentence(sentence):\n",
    "    sentence = sentence.lower()\n",
    "    replace_chars = [',','.']\n",
    "    for replace_char in replace_chars:\n",
    "        sentence = sentence.replace(replace_char,'')\n",
    "        \n",
    "    sentence = sentence.replace('-', ' ')\n",
    "    snt_to_wlst = sentence.split(' ')\n",
    "    new_sentence = ''\n",
    "    no_in_db = []\n",
    "    more_ortho ={}\n",
    "\n",
    "    \n",
    "    for word in snt_to_wlst:\n",
    "        if word in cv_dic:\n",
    "            phon_w = get_LPC_p(word)\n",
    "            new_sentence += phon_w + '   '\n",
    "            if n_dic[word] != 1:\n",
    "                more_ortho[word] = phon_dic[word]\n",
    "        else: \n",
    "            no_in_db.append(word)\n",
    "        \n",
    "    \n",
    "    if no_in_db == [] and more_ortho == {}:\n",
    "        return new_sentence\n",
    "    if no_in_db == [] and more_ortho != {}:\n",
    "        return new_sentence + f',check the cv for: {more_ortho}'\n",
    "    else:\n",
    "        return new_sentence + f',except {no_in_db}, check the phon for: {more_ortho}'"
   ]
  },
  {
   "cell_type": "markdown",
   "id": "436e5274",
   "metadata": {},
   "source": [
    "# Get the number of LPC gestures of a word or a whole sentence"
   ]
  },
  {
   "cell_type": "code",
   "execution_count": null,
   "id": "272aca5d",
   "metadata": {},
   "outputs": [],
   "source": [
    "def get_LPC_w(word):\n",
    "    LPC_gustures = 0     \n",
    "    if word in cv_dic:\n",
    "        cv_lst = cv_dic[word].split('-')\n",
    "        for syl in cv_lst:\n",
    "            LPC_gustures += syl_dic[syl]\n",
    "        return LPC_gustures\n",
    "\n",
    "    else: \n",
    "        return word"
   ]
  },
  {
   "cell_type": "code",
   "execution_count": null,
   "id": "7686dbd9",
   "metadata": {},
   "outputs": [],
   "source": [
    "def get_LPC_g(sentence):\n",
    "    sentence = sentence.lower()\n",
    "    replace_chars = [',','.']\n",
    "    for replace_char in replace_chars:\n",
    "        sentence = sentence.replace(replace_char,'')\n",
    "        \n",
    "    sentence = sentence.replace('-', ' ')\n",
    "    snt_to_wlst = sentence.split(' ')\n",
    "    LPC_gustures = 0 \n",
    "    no_in_db = []\n",
    "    more_ortho ={}\n",
    "\n",
    "    \n",
    "    for word in snt_to_wlst:\n",
    "        if word in cv_dic:\n",
    "            LPC_gustures += get_LPC_w(word)\n",
    "            if n_dic[word] != 1:\n",
    "                more_ortho[word] = get_LPC_w(word)\n",
    "        else: \n",
    "            no_in_db.append(word)\n",
    "        \n",
    "    \n",
    "    if no_in_db == [] and more_ortho == []:\n",
    "        return f'{LPC_gustures}'\n",
    "    if no_in_db == [] and more_ortho != []:\n",
    "        return f'{LPC_gustures}, check the cv for: {more_ortho}'\n",
    "    else:\n",
    "        return f'{LPC_gustures}, except {no_in_db}, check the cv for: {more_ortho}'\n"
   ]
  },
  {
   "cell_type": "code",
   "execution_count": null,
   "id": "c658931c",
   "metadata": {},
   "outputs": [],
   "source": [
    "def get_LPC_g1(sentence):\n",
    "    sentence = sentence.lower()\n",
    "    sentence = sentence.replace('.', '')\n",
    "    sentence = sentence.replace('-', ' ')\n",
    "    snt_to_wlst = sentence.split(\" \")\n",
    "    LPC_gustures = 0 \n",
    "    e = 0\n",
    "    no_in_db = []\n",
    "    more_ortho ={}\n",
    "\n",
    "    \n",
    "    for word in snt_to_wlst:\n",
    "        if word in p_dic:\n",
    "            #print(word, p_dic[word])\n",
    "            e = 1\n",
    "            if p_dic[word][0] == 'V':\n",
    "                LPC_gustures += 1\n",
    "            for letter in p_dic[word]:\n",
    "                if letter == 'C':\n",
    "                    LPC_gustures += 1\n",
    "            if n_dic[word] != 1:\n",
    "                more_ortho[word] = p_dic[word]\n",
    "\n",
    "        else: \n",
    "            e = 0\n",
    "        if e == 0 :\n",
    "            no_in_db.append(word)\n",
    "        \n",
    "    \n",
    "    if no_in_db == [] and more_ortho == []:\n",
    "        return f'{LPC_gustures}'\n",
    "    if no_in_db == [] and more_ortho != []:\n",
    "        return f'{LPC_gustures}, check the cv for: {more_ortho}'\n",
    "    else:\n",
    "        return f'{LPC_gustures}, except {no_in_db}, check the cv for: {more_ortho}'\n"
   ]
  },
  {
   "cell_type": "markdown",
   "id": "085bf8c4",
   "metadata": {},
   "source": [
    "# Get the code for each gesture"
   ]
  },
  {
   "cell_type": "code",
   "execution_count": null,
   "id": "31af7c88",
   "metadata": {},
   "outputs": [],
   "source": [
    "#lpc coding\n",
    "position = {'a': '0', 'o': '0', '9': '0', '5': '1', '2': '1', 'i': '2', '§': '2', '@': '2', 'E': '3', 'u': '3', 'O': '3', '1': '4', 'y': '4', 'e': '4'}\n",
    "configuration = {'p': '0', 'd': '0', 'Z': '0', 'k': '1', 'v': '1', 'z': '1', 's': '2', 'R': '2', 'b': '3', 'n': '3', '8': '3', 't': '4', 'm': '4', 'f': '4', 'l': '5', 'S': '5', 'N': '5', 'w': '5', 'g': '6', 'j': '7', 'G': '7'}\n",
    "poa = {'p': '0', 'b': '0', 'm': '0', 'f': '1', 'v': '1', 't': '2', 'd': '2', 's': '2','z':'2','n':'2', 'N': '2', 'S': '3', 'Z': '3', 'k': '4', 'g': '4', 'R': '4', 'l': '4'}\n",
    "rounding = {'O':'0','y': '0', 'o': '0', '2': '0', 'u': '0', 'a': '1', '5': '1', 'i': '1', '1': '1', 'e': '1', 'E': '1','@': '2','§': '2', '9': '2'}\n",
    "\n",
    "\n",
    "def lpc_code(word):\n",
    "    code_word = \"\"\n",
    "    syll_lst = get_LPC_p(word).split(\"-\")\n",
    "    for syll in syll_lst:\n",
    "        if len(syll) == 1:\n",
    "            if syll in configuration:\n",
    "                code_word += configuration[syll]\n",
    "                code_word += poa[syll]\n",
    "                code_word += '0/'\n",
    "            else:\n",
    "                code_word += '5/'\n",
    "                code_word += position[syll]\n",
    "                code_word += rounding[syll]\n",
    "        else:\n",
    "            for i in range (0,len(syll)):\n",
    "                if syll[i] in configuration:\n",
    "                    code_word += configuration[syll[i]]\n",
    "                    code_word += poa[syll[i]]\n",
    "                else:\n",
    "                    code_word += position[syll[i]]\n",
    "                    code_word += rounding[syll[i]]\n",
    "        code_word += '-'\n",
    "    return code_word[:-1]\n"
   ]
  }
 ],
 "metadata": {
  "kernelspec": {
   "display_name": "Python 3 (ipykernel)",
   "language": "python",
   "name": "python3"
  },
  "language_info": {
   "codemirror_mode": {
    "name": "ipython",
    "version": 3
   },
   "file_extension": ".py",
   "mimetype": "text/x-python",
   "name": "python",
   "nbconvert_exporter": "python",
   "pygments_lexer": "ipython3",
   "version": "3.9.7"
  }
 },
 "nbformat": 4,
 "nbformat_minor": 5
}
