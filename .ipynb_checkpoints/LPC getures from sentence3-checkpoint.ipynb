{
 "cells": [
  {
   "cell_type": "code",
   "execution_count": 2,
   "id": "dffb7afe",
   "metadata": {},
   "outputs": [],
   "source": [
    "import numpy as np\n",
    "import pandas as pd\n",
    "\n",
    "\n",
    "lex = pd.read_csv('Lexique380.utf8.csv')\n",
    "#lex = pd.read_csv('test.csv')\n",
    "lex = lex[(lex.ortho.str.contains('-| ') == False) & (lex.phon.str.contains('°') == False)]  # suppress schwa\n",
    "lex = lex.drop_duplicates(subset='ortho', keep=\"first\")\n",
    "lex = lex[['ortho', 'p_cvcv','nbhomogr','cv-cv','syll']]\n",
    "dic = lex.set_index('ortho').to_dict()\n",
    "\n",
    "p_dic = dic['p_cvcv']\n",
    "n_dic = dic['nbhomogr']\n",
    "cv_dic = dic['cv-cv']\n",
    "p_cv_dic = dic['syll']\n",
    "lex['cv-div'] = lex['cv-cv'].apply(lambda x: x.split('-'))"
   ]
  },
  {
   "cell_type": "code",
   "execution_count": 3,
   "id": "a8337a07",
   "metadata": {},
   "outputs": [],
   "source": [
    "##### Criating the possible configurations for 1 spoken syllable"
   ]
  },
  {
   "cell_type": "code",
   "execution_count": 4,
   "id": "5b582163",
   "metadata": {},
   "outputs": [],
   "source": [
    "lex['cv-div'] = lex['cv-cv'].apply(lambda x: x.split('-'))\n",
    "\n",
    "\n",
    "flat_list = [item for sublist in lex['cv-div'] for item in sublist]\n",
    "flat_set = set(flat_list)\n",
    "flatset_l = list(flat_set)\n",
    "\n",
    "\n",
    "\n",
    "lpc_syl_config = pd.DataFrame(flatset_l,columns =['spoken_config'])\n",
    "\n",
    "\n",
    "#lpc_syl_config.to_csv('lpc_syl_config.csv')\n",
    "\n"
   ]
  },
  {
   "cell_type": "code",
   "execution_count": 7,
   "id": "995b8141",
   "metadata": {},
   "outputs": [
    {
     "name": "stdout",
     "output_type": "stream",
     "text": [
      "{'CCVYC': 4, 'CYVC': 2, 'YV': 2, 'CCVC': 3, 'CCYVCC': 5, 'CCCYV': 4, 'CCCVC': 4, 'VCC': 3, 'VY': 2, 'CYVY': 4, 'V': 1, 'CCVCCC': 5, 'CCCV': 3, 'CVCCC': 4, 'CC': 1, 'CVYCCC': 5, 'CCYV': 4, 'CYVCC': 4, 'CCCYVC': 5, 'YVY': 3, 'CCC': 1, 'CYVCCC': 5, 'CCVY': 3, 'CCYVYC': 5, 'VYC': 3, 'CVCC': 3, 'YVC': 3, 'CCV': 2, 'CVY': 2, 'CVYC': 3, 'VC': 2, 'CCCVCCC': 1, 'CVCCCC': 5, 'YVCC': 4, 'CCVYCC': 5, 'C': 1, 'CCCVCC': 5, 'CCYVY': 3, 'CVC': 2, 'CCVCC': 4, 'VYCC': 4, 'VCCC': 4, 'CVYCC': 4, 'CCCVY': 4, 'CCYVC': 4, 'CYV': 3, 'CV': 1}\n"
     ]
    }
   ],
   "source": [
    "# number of gestures of each syll\n",
    "\n",
    "dev_syl = pd.read_csv('lpc_syl_configurations.csv')\n",
    "dev_syl['lpc_n'] = dev_syl['LPC_config'].apply(lambda x: x.split('-'))\n",
    "dev_syl['lpc_n'] = dev_syl['lpc_n'].apply(lambda x: len(x))\n",
    "\n",
    "dic2 = dev_syl.set_index('spoken_config').to_dict()\n",
    "syl_dic = dic2['lpc_n']\n",
    "\n",
    "print(syl_dic)"
   ]
  },
  {
   "cell_type": "code",
   "execution_count": 9,
   "id": "f9e4ce5a",
   "metadata": {},
   "outputs": [],
   "source": [
    "def get_LPC_w(word):\n",
    "    LPC_gustures = 0     \n",
    "    if word in cv_dic:\n",
    "        cv_lst = cv_dic[word].split('-')\n",
    "        for syl in cv_lst:\n",
    "            LPC_gustures += syl_dic[syl]\n",
    "        return LPC_gustures\n",
    "\n",
    "    else: \n",
    "        return word\n"
   ]
  },
  {
   "cell_type": "code",
   "execution_count": 16,
   "id": "3bf4eb9d",
   "metadata": {},
   "outputs": [
    {
     "name": "stdout",
     "output_type": "stream",
     "text": [
      "2\n"
     ]
    }
   ],
   "source": [
    "print(get_LPC_w('maison'))"
   ]
  },
  {
   "cell_type": "code",
   "execution_count": 22,
   "id": "22f4683c",
   "metadata": {},
   "outputs": [],
   "source": [
    "def get_LPC_g(sentence):\n",
    "    sentence = sentence.lower()\n",
    "    replace_chars = [',','.']\n",
    "    for replace_char in replace_chars:\n",
    "        sentence = sentence.replace(replace_char,'')\n",
    "        \n",
    "    sentence = sentence.replace('-', ' ')\n",
    "    snt_to_wlst = sentence.split(' ')\n",
    "    LPC_gustures = 0 \n",
    "    no_in_db = []\n",
    "    more_ortho ={}\n",
    "\n",
    "    \n",
    "    for word in snt_to_wlst:\n",
    "        if word in cv_dic:\n",
    "            LPC_gustures += get_LPC_w(word)\n",
    "            if n_dic[word] != 1:\n",
    "                more_ortho[word] = get_LPC_w(word)\n",
    "        else: \n",
    "            no_in_db.append(word)\n",
    "        \n",
    "    \n",
    "    if no_in_db == [] and more_ortho == []:\n",
    "        return f'{LPC_gustures}'\n",
    "    if no_in_db == [] and more_ortho != []:\n",
    "        return f'{LPC_gustures}, check the cv for: {more_ortho}'\n",
    "    else:\n",
    "        return f'{LPC_gustures}, except {no_in_db}, check the cv for: {more_ortho}'\n",
    "\n",
    "\n",
    "    \n"
   ]
  },
  {
   "cell_type": "code",
   "execution_count": 18,
   "id": "fd44705b",
   "metadata": {},
   "outputs": [],
   "source": [
    "def get_LPC_g1(sentence):\n",
    "    sentence = sentence.lower()\n",
    "    sentence = sentence.replace('.', '')\n",
    "    sentence = sentence.replace('-', ' ')\n",
    "    snt_to_wlst = sentence.split(\" \")\n",
    "    LPC_gustures = 0 \n",
    "    e = 0\n",
    "    no_in_db = []\n",
    "    more_ortho ={}\n",
    "\n",
    "    \n",
    "    for word in snt_to_wlst:\n",
    "        if word in p_dic:\n",
    "            #print(word, p_dic[word])\n",
    "            e = 1\n",
    "            if p_dic[word][0] == 'V':\n",
    "                LPC_gustures += 1\n",
    "            for letter in p_dic[word]:\n",
    "                if letter == 'C':\n",
    "                    LPC_gustures += 1\n",
    "            if n_dic[word] != 1:\n",
    "                more_ortho[word] = p_dic[word]\n",
    "\n",
    "        else: \n",
    "            e = 0\n",
    "        if e == 0 :\n",
    "            no_in_db.append(word)\n",
    "        \n",
    "    \n",
    "    if no_in_db == [] and more_ortho == []:\n",
    "        return f'{LPC_gustures}'\n",
    "    if no_in_db == [] and more_ortho != []:\n",
    "        return f'{LPC_gustures}, check the cv for: {more_ortho}'\n",
    "    else:\n",
    "        return f'{LPC_gustures}, except {no_in_db}, check the cv for: {more_ortho}'\n"
   ]
  },
  {
   "cell_type": "code",
   "execution_count": 25,
   "id": "a5588efa",
   "metadata": {},
   "outputs": [],
   "source": [
    "def get_number_of_letters(sentence):\n",
    "    sentence = sentence.lower()\n",
    "    replace_chars = [',','.',' ']\n",
    "    for replace_char in replace_chars:\n",
    "        sentence = sentence.replace(replace_char,'')\n",
    "    return len(sentence)\n",
    "    "
   ]
  },
  {
   "cell_type": "code",
   "execution_count": 26,
   "id": "f7129a5e",
   "metadata": {},
   "outputs": [],
   "source": [
    "def get_number_of_words(sentence):\n",
    "    sentence = sentence.replace('-',' ')\n",
    "    w_lst = sentence.split(' ')\n",
    "    return len(w_lst)\n",
    "    "
   ]
  },
  {
   "cell_type": "markdown",
   "id": "01f09c51",
   "metadata": {},
   "source": [
    "## Counting the numbers of LPC gestures for both sentences in to the file"
   ]
  },
  {
   "cell_type": "code",
   "execution_count": 24,
   "id": "93a0b467",
   "metadata": {
    "scrolled": true
   },
   "outputs": [],
   "source": [
    "df = pd.read_csv('CUSTIME_sentence_predictability.csv', encoding=\"utf-8\")\n",
    "\n",
    "for index,row in df.iterrows():\n",
    "    p_sentence = row['Predictable end sentence']\n",
    "    pred_end_n_LPC = get_LPC_g(p_sentence)\n",
    "    pred_num_ltr = get_number_of_letters(p_sentence)\n",
    "    pred_num_words = get_number_of_words(p_sentence)\n",
    "    df.loc[index,\"pred_num_letters\"] = pred_num_ltr\n",
    "    df.loc[index,\"pred_end_n_LPC\"] = pred_end_n_LPC\n",
    "    df.loc[index,\"pred_num_words\"] = pred_num_words\n",
    "    \n",
    "    unp_sentence = row['Unpredictable end sentence']\n",
    "    unpred_end_n_LPC = get_LPC_g(unp_sentence)\n",
    "    unpred_num_ltr = get_number_of_letters(unp_sentence)\n",
    "    unpred_num_words = get_number_of_words(unp_sentence)\n",
    "    df.loc[index,\"unpred_num_letters\"] = unpred_num_ltr\n",
    "    df.loc[index,\"unpred_end_n_LPC\"] = unpred_end_n_LPC\n",
    "    df.loc[index,\"unpred_num_words\"] = unpred_num_words\n",
    "    \n",
    "    df[\"delta_tletters\"] = df[\"pred_num_letters\"] - df[\"unpred_num_letters\"]\n",
    "    df[\"delta_words\"] = df[\"pred_num_words\"] - df[\"unpred_num_words\"]\n",
    "    # Creating the LPC delta should be done on the csv after verifing manually\n",
    "    \n",
    "\n",
    "df.to_csv('CUSTIME_sentence_predictability_with_LPC.csv', encoding=\"utf-8-sig\")\n",
    "\n",
    "\n",
    "\n"
   ]
  },
  {
   "cell_type": "code",
   "execution_count": null,
   "id": "d0838d9c",
   "metadata": {},
   "outputs": [],
   "source": []
  }
 ],
 "metadata": {
  "kernelspec": {
   "display_name": "Python 3 (ipykernel)",
   "language": "python",
   "name": "python3"
  },
  "language_info": {
   "codemirror_mode": {
    "name": "ipython",
    "version": 3
   },
   "file_extension": ".py",
   "mimetype": "text/x-python",
   "name": "python",
   "nbconvert_exporter": "python",
   "pygments_lexer": "ipython3",
   "version": "3.9.7"
  }
 },
 "nbformat": 4,
 "nbformat_minor": 5
}
