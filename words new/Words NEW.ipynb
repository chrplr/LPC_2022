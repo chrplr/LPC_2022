{
 "cells": [
  {
   "cell_type": "markdown",
   "id": "af5dff87",
   "metadata": {},
   "source": [
    "# importing basic function from bf notebook:"
   ]
  },
  {
   "cell_type": "code",
   "execution_count": 2,
   "id": "958cd47a",
   "metadata": {},
   "outputs": [
    {
     "name": "stdout",
     "output_type": "stream",
     "text": [
      "ta-b-l\n"
     ]
    },
    {
     "data": {
      "text/plain": [
       "'4201-300/-540/'"
      ]
     },
     "execution_count": 2,
     "metadata": {},
     "output_type": "execute_result"
    }
   ],
   "source": [
    "import io\n",
    "import nbformat\n",
    "\n",
    "def execute_notebook(nbfile):\n",
    "    with io.open(nbfile, encoding=\"utf8\") as f:\n",
    "        nb = nbformat.read(f, as_version=4)\n",
    "\n",
    "    ip = get_ipython()\n",
    "\n",
    "    for cell in nb.cells:\n",
    "        if cell.cell_type != 'code':\n",
    "            continue\n",
    "        ip.run_cell(cell.source)\n",
    "        \n",
    "        \n",
    "execute_notebook(r\"C:\\Users\\hagar\\OneDrive - mail.tau.ac.il\\Desktop\\Stage\\LPC_2022\\basic lpc functions\\LPC_Usefull_Functions.ipynb\")\n"
   ]
  },
  {
   "cell_type": "code",
   "execution_count": 3,
   "id": "7404c758",
   "metadata": {},
   "outputs": [],
   "source": [
    "import pandas as pd\n",
    "import numpy as np\n",
    "\n",
    "h_0 = pd.read_csv('H_0.csv', encoding='utf-8-sig')\n",
    "h_1 = pd.read_csv('H_1.csv', encoding='utf-8-sig')\n",
    "h_2 = pd.read_csv('H_2.csv', encoding='utf-8-sig')\n",
    "high = [h_0,h_1,h_2]\n",
    "\n",
    "l_0 = pd.read_csv('L_0.csv', encoding='utf-8-sig')\n",
    "l_1 = pd.read_csv('L_1.csv', encoding='utf-8-sig')\n",
    "l_2 = pd.read_csv('L_2.csv', encoding='utf-8-sig')\n",
    "low = [l_0,l_1]\n",
    "\n"
   ]
  },
  {
   "cell_type": "code",
   "execution_count": 17,
   "id": "fcced414",
   "metadata": {},
   "outputs": [],
   "source": [
    "n = 56\n",
    "set_mean = 1.52 #all these numbers are according to h_0 (the lowest numbers)\n",
    "set_med = 1.47\n",
    "set_std = 0.29 # the std of the low_2 (the most problemtic category)\n",
    "\n",
    "res1 =[]\n",
    "\n",
    "for frame in high:\n",
    "    ok= False\n",
    "    while (not ok):\n",
    "        tmp = frame.sample(n)\n",
    "        med = tmp.freq_comb.median()\n",
    "        mean = tmp.freq_comb.mean()\n",
    "        std = tmp.freq_comb.std()\n",
    "        ok = (set_med-0.1<med<set_med+0.1) and (set_mean-0.1<mean<set_mean+0.1) and (set_std-0.1<std<set_std+0.1)\n",
    "    res1.append(tmp)\n",
    "\n",
    "res_h_0 = res1[0]\n",
    "res_h_1 = res1[1]\n",
    "res_h_2 = res1[2]"
   ]
  },
  {
   "cell_type": "code",
   "execution_count": 18,
   "id": "e3151360",
   "metadata": {},
   "outputs": [],
   "source": [
    "n = 60\n",
    "set_mean = 0.21 #all these numbers are according to l_2 (the lowest numbers)\n",
    "set_med = 0.29\n",
    "set_std = 0.29\n",
    "\n",
    "\n",
    "\n",
    "res2 =[]\n",
    "\n",
    "for frame in low:\n",
    "    ok= False\n",
    "    while (not ok):\n",
    "        tmp = frame.sample(n)\n",
    "        med = tmp.freq_comb.median()\n",
    "        mean = tmp.freq_comb.mean()\n",
    "        std = tmp.freq_comb.std()\n",
    "        ok = (set_med-0.1<med<set_med+0.1) and (set_mean-0.1<mean<set_mean+0.1) and (set_std-0.1<std<set_std+0.1)\n",
    "    res2.append(tmp)\n",
    "\n",
    "            \n",
    "\n",
    "res_l_0 = res2[0]\n",
    "res_l_1 = res2[1]\n",
    "res_l_2 = l_2\n"
   ]
  },
  {
   "cell_type": "code",
   "execution_count": 19,
   "id": "ee27d0dc",
   "metadata": {},
   "outputs": [],
   "source": [
    "# Create a Pandas Excel writer using XlsxWriter as the engine.\n",
    "writer = pd.ExcelWriter('new.xlsx', engine='xlsxwriter')\n",
    "\n",
    "# Write each dataframe to a different worksheet.\n",
    "res_h_0.to_excel(writer, sheet_name='h_0')\n",
    "res_h_1.to_excel(writer, sheet_name='h_1')\n",
    "res_h_2.to_excel(writer, sheet_name='h_2')\n",
    "res_l_0.to_excel(writer, sheet_name='l_0')\n",
    "res_l_1.to_excel(writer, sheet_name='l_1')\n",
    "res_l_2.to_excel(writer, sheet_name='l_2')\n",
    "\n",
    "# Close the Pandas Excel writer and output the Excel file.\n",
    "writer.save()"
   ]
  },
  {
   "cell_type": "markdown",
   "id": "40d9a0a1",
   "metadata": {},
   "source": [
    "Coding the words in LPC form:"
   ]
  },
  {
   "cell_type": "code",
   "execution_count": 1,
   "id": "89faca69",
   "metadata": {},
   "outputs": [
    {
     "ename": "NameError",
     "evalue": "name 'pd' is not defined",
     "output_type": "error",
     "traceback": [
      "\u001b[1;31m---------------------------------------------------------------------------\u001b[0m",
      "\u001b[1;31mNameError\u001b[0m                                 Traceback (most recent call last)",
      "\u001b[1;32m~\\AppData\\Local\\Temp/ipykernel_19556/970583326.py\u001b[0m in \u001b[0;36m<module>\u001b[1;34m\u001b[0m\n\u001b[1;32m----> 1\u001b[1;33m \u001b[0mxls\u001b[0m \u001b[1;33m=\u001b[0m \u001b[0mpd\u001b[0m\u001b[1;33m.\u001b[0m\u001b[0mExcelFile\u001b[0m\u001b[1;33m(\u001b[0m\u001b[1;34m'new.xlsx'\u001b[0m\u001b[1;33m)\u001b[0m\u001b[1;33m\u001b[0m\u001b[1;33m\u001b[0m\u001b[0m\n\u001b[0m\u001b[0;32m      2\u001b[0m \u001b[0mh_0\u001b[0m \u001b[1;33m=\u001b[0m \u001b[0mpd\u001b[0m\u001b[1;33m.\u001b[0m\u001b[0mread_excel\u001b[0m\u001b[1;33m(\u001b[0m\u001b[0mxls\u001b[0m\u001b[1;33m,\u001b[0m \u001b[1;34m'h_0'\u001b[0m\u001b[1;33m)\u001b[0m\u001b[1;33m\u001b[0m\u001b[1;33m\u001b[0m\u001b[0m\n\u001b[0;32m      3\u001b[0m \u001b[0mh_1\u001b[0m \u001b[1;33m=\u001b[0m \u001b[0mpd\u001b[0m\u001b[1;33m.\u001b[0m\u001b[0mread_excel\u001b[0m\u001b[1;33m(\u001b[0m\u001b[0mxls\u001b[0m\u001b[1;33m,\u001b[0m \u001b[1;34m'h_1'\u001b[0m\u001b[1;33m)\u001b[0m\u001b[1;33m\u001b[0m\u001b[1;33m\u001b[0m\u001b[0m\n\u001b[0;32m      4\u001b[0m \u001b[0mh_2\u001b[0m \u001b[1;33m=\u001b[0m \u001b[0mpd\u001b[0m\u001b[1;33m.\u001b[0m\u001b[0mread_excel\u001b[0m\u001b[1;33m(\u001b[0m\u001b[0mxls\u001b[0m\u001b[1;33m,\u001b[0m \u001b[1;34m'h_2'\u001b[0m\u001b[1;33m)\u001b[0m\u001b[1;33m\u001b[0m\u001b[1;33m\u001b[0m\u001b[0m\n\u001b[0;32m      5\u001b[0m \u001b[0ml_0\u001b[0m \u001b[1;33m=\u001b[0m \u001b[0mpd\u001b[0m\u001b[1;33m.\u001b[0m\u001b[0mread_excel\u001b[0m\u001b[1;33m(\u001b[0m\u001b[0mxls\u001b[0m\u001b[1;33m,\u001b[0m \u001b[1;34m'l_0'\u001b[0m\u001b[1;33m)\u001b[0m\u001b[1;33m\u001b[0m\u001b[1;33m\u001b[0m\u001b[0m\n",
      "\u001b[1;31mNameError\u001b[0m: name 'pd' is not defined"
     ]
    }
   ],
   "source": [
    "xls = pd.ExcelFile('new.xlsx')\n",
    "h_0 = pd.read_excel(xls, 'h_0')\n",
    "h_1 = pd.read_excel(xls, 'h_1')\n",
    "h_2 = pd.read_excel(xls, 'h_2')\n",
    "l_0 = pd.read_excel(xls, 'l_0')\n",
    "l_1 = pd.read_excel(xls, 'l_1')\n",
    "l_2 = pd.read_excel(xls, 'l_2')\n",
    "\n",
    "frames = [h_0, h_1, h_2, l_0, l_1,l_2]\n",
    "\n",
    "for df in frames:\n",
    "    df['LPC'] = df['Word'].apply(get_LPC_p)\n",
    "    df['word_code'] = df['Word'].apply(lpc_code)\n",
    "    df = df.drop('Unnamed: 0',axis = 1)\n",
    "\n",
    "\n",
    "# Create a Pandas Excel writer using XlsxWriter as the engine.\n",
    "writer = pd.ExcelWriter('new_with_code.xlsx', engine='xlsxwriter')\n",
    "\n",
    "# Write each dataframe to a different worksheet.\n",
    "h_0.to_excel(writer, sheet_name='h_0',index=False)\n",
    "h_1.to_excel(writer, sheet_name='h_1',index=False)\n",
    "h_2.to_excel(writer, sheet_name='h_2',index=False)\n",
    "l_0.to_excel(writer, sheet_name='l_0',index=False)\n",
    "l_1.to_excel(writer, sheet_name='l_1',index=False)\n",
    "l_2.to_excel(writer, sheet_name='l_2',index=False)\n",
    "\n",
    "# Close the Pandas Excel writer and output the Excel file.\n",
    "writer.save()"
   ]
  }
 ],
 "metadata": {
  "kernelspec": {
   "display_name": "Python 3 (ipykernel)",
   "language": "python",
   "name": "python3"
  },
  "language_info": {
   "codemirror_mode": {
    "name": "ipython",
    "version": 3
   },
   "file_extension": ".py",
   "mimetype": "text/x-python",
   "name": "python",
   "nbconvert_exporter": "python",
   "pygments_lexer": "ipython3",
   "version": "3.9.7"
  }
 },
 "nbformat": 4,
 "nbformat_minor": 5
}
