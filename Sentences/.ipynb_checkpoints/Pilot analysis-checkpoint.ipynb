{
 "cells": [
  {
   "cell_type": "markdown",
   "id": "12e344ee",
   "metadata": {},
   "source": [
    "# Pilot analysis"
   ]
  },
  {
   "cell_type": "code",
   "execution_count": 116,
   "id": "acb7b0cb",
   "metadata": {},
   "outputs": [],
   "source": [
    "import numpy as np\n",
    "import pandas as pd\n",
    "import seaborn as sns\n",
    "import ast\n",
    "\n",
    "\n",
    "p1 = pd.read_csv('Pilot_1.csv',encoding=\"utf-8-sig\",index_col=0)\n",
    "\n",
    "col_name1 = list(p1)\n",
    "d = []\n",
    "for col in p1.columns:\n",
    "    p1[col] = p1[col].str.lower()\n",
    "    dic1 = p1[col].value_counts().to_dict()\n",
    "    d.append(dic1)\n",
    "\n",
    "for item in d:\n",
    "    item = str(item)\n",
    "\n",
    "d1 = [\"{'oui': 26}\", {'femme': 18, 'homme': 8}, {'18 - 25': 13, '26 - 35': 9, '56 - 65': 3, '46 - 55': 1}, {'la france': 17, 'france': 4, 'la belgique': 4, 'tunisienne': 1}, {'master ou équivalent': 14, 'bts, dut, licence ou équivalent': 5, 'baccalauréat général, technologique, professionnel ou équivalent': 3, 'brevet des collège, bepc': 2, \"certificat d'études primaires\": 1, 'doctorat': 1}, {'amoureux ': 13, 'amoureux': 11, 'dans le trou': 1, 'raides': 1}, {'chien': 17, 'chien ': 7, 'chient': 1, 'dinosaure': 1}, {'chaude': 17, 'chaude ': 6, 'brûlante ': 3}, {'malheur': 7, 'malheur ': 5, 'débris': 2, 'malchance ': 2, 'soucis': 2, 'soucie': 1, 'porte malheur ': 1, 'problème m': 1, 'peine': 1, 'dégâts ': 1, 'malchance': 1, 'soucis ': 1, 'tort': 1}, {'rencontrés': 8, 'vus': 5, 'rencontres ': 3, 'rencontré': 3, 'rencontrés ': 3, 'rencontrer': 1, 'envolée ': 1, 'vue ': 1, 'vu': 1}, {'nuit': 18, 'nuit ': 7, 'bar mitsva': 1}, {'dent': 17, 'dent ': 5, 'amie': 1, 'fois': 1, 'bague': 1, 'douche': 1}, {'émoussée': 5, 'abîmée ': 2, 'émoussée ': 2, 'cassé': 1, 'plate': 1, 'ébréchée': 1, 'limée ': 1, 'abîmée': 1, 'pointu': 1, 'brisée': 1, 'lisse': 1, 'user ': 1, 'casser': 1, 'rouillée ': 1, 'cassée': 1, 'rayée ': 1, 'innofensive': 1, 'plat ': 1, 'brisé ': 1, 'usée': 1}, {'forte': 11, 'forte ': 7, 'fort': 2, 'bonne': 2, 'intense': 1, 'cool': 1, 'bruyante ': 1, 'bien': 1}, {'fête ': 12, 'fete': 4, 'soirée': 4, 'fête': 2, 'surprise ': 1, 'fete ': 1, 'surprise': 1, 'teuf': 1}, {'pas': 22, 'pas ': 2, 'fois ': 1, 'fois': 1}, {'montre': 16, 'montre ': 8, 'copine': 1, 'chatte': 1}, {'voler': 18, 'voler ': 4, 'volle': 1, 'vivre': 1, 'bouger': 1, 'partir': 1}, {'rouge': 16, 'noir': 4, 'rouge ': 4, 'bleu': 1, 'deuil': 1}, {'guerre': 17, 'guerre ': 8, 'guerre mondial': 1}, {'faire': 14, 'faire ': 5, 'dire': 2, 'répondre ': 2, 'dire ': 1, 'répondre': 1, 'acheter ': 1}, {'nourrir': 12, 'nourrir ': 8, 'nourir': 2, 'remplire': 1, 'trou': 1, 'oreilles': 1, 'cuire ': 1}, {'emploi': 8, 'travail': 3, 'emploi ': 3, 'job': 3, 'travaille ': 2, 'boulot ': 2, 'travail ': 2, 'boulot': 1, 'contrat': 1, 'poste': 1}, {'couteau': 15, 'couteau ': 10, 'ciseau ': 1}, {'rire': 20, 'rire ': 4, 'rigoler ': 1, 'fire': 1}, {'erreur': 10, 'faute': 5, 'faute ': 5, 'erreur ': 3, 'salsa': 1, 'connerie': 1, 'tache': 1}, {'crime': 7, 'péché': 7, 'péché ': 2, 'crime ': 2, 'délit ': 2, 'peche': 1, 'pêche ': 1, 'aspect ': 1, 'acte': 1, 'pêcher ': 1, 'méfait': 1}, {'serviette': 17, 'serviette ': 7, 'serviettes ': 2}, {'creusé': 13, 'creuser ': 3, 'fait': 3, 'creusé ': 3, 'creuse ': 2, 'creuser': 1, 'creser': 1}, {'juste': 7, 'justifiée': 4, 'juste ': 3, 'forte': 2, 'claire': 1, 'méritée ': 1, 'longue ': 1, 'appropriée': 1, 'adaptée': 1, 'justifiée ': 1, 'mesurée': 1, 'raisonnable ': 1, 'proportionnée ': 1, 'méchante ': 1}, {'ami': 20, 'ami ': 3, 'amie': 2, 'compagnon': 1}, {'disparu': 4, 'refusé': 3, 'mal': 2, 'un rendez-vous ': 1, 'une réunion': 1, 'oublie ': 1, 'faim': 1, 'du travail ': 1, 'oublié': 1, 'fugué ': 1, 'une réunion ': 1, 'bu ': 1, 'planter': 1, 'ignorer ': 1, 'repoussé': 1, 'bu': 1, 'annule ': 1, 'annulé': 1, 'des rendez-vous ': 1, 'froid': 1}, {'cadeau ': 3, 'lapin': 1, 'demon': 1, 'indice': 1, 'insecte': 1, 'trésor ': 1, 'œuf': 1, 'scarabée': 1, 'chat ': 1, 'trésor': 1, 'diable': 1, 'jeu': 1, 'carnet ': 1, 'secret': 1, 'canard': 1, 'chapeau ': 1, 'gâteau ': 1, 'pervert ': 1, 'tresor': 1, 'hamster': 1, 'cadeau': 1, 'jouet ': 1, 'cloon': 1, 'bonbon': 1}, {'grande': 4, 'grosse': 3, 'autre': 3, 'dizaine ': 1, 'tripotée ': 1, 'tonne': 1, 'tonne ': 1, 'girafe': 1, 'partie': 1, 'dizaine': 1, 'caravane ': 1, 'gourde': 1, 'ou deux ': 1, 'longue ': 1, 'fusée': 1, 'grande quantité ': 1, 'majorité ': 1, 'blala': 1, 'centaine': 1}, {'chose': 9, 'histoire ': 9, 'histoire': 4, 'merde': 2, 'merde ': 1, 'rengaine': 1}, {'salé': 5, 'chaud': 4, 'épicé': 4, 'lourd': 2, 'bon': 2, 'copieux': 2, 'chian': 1, 'bon ': 1, 'épicé ': 1, 'cher': 1, 'fort': 1, 'gras ': 1, 'grand ': 1}, {'ordinateur ': 10, 'ordinateur': 5, 'appartement ': 3, 'iphone': 1, 'aspirateur ': 1, 'iphone ': 1, 'ensemble': 1, 'pain': 1, 'appareil photo ': 1, 'appart': 1, 'appartement': 1}, {'contrat': 7, 'contrat ': 4, 'livre': 1, 'mail': 1, 'manuscrit ': 1, 'résultat ': 1, 'chapitre': 1, 'bilan': 1, 'scanner': 1, 'bulletin ': 1, 'resultat': 1, 'livre ': 1, 'examen': 1, 'compte rendu ': 1, 'numéro ': 1, 'contras': 1, 'testament ': 1}, {'sang': 13, 'vin': 2, 'sauce ': 2, 'tomate': 1, 'cafe au lait ': 1, 'chocolat ': 1, 'noir': 1, 'la même façon ': 1, 'vinaigre': 1, 'cafe ': 1, 'suie': 1, 'rouge à lèvres ': 1}, {'prix': 10, 'prix ': 4, 'bonbon': 3, 'brassard': 1, 'couteau ': 1, 'diplôme ': 1, 'certificat ': 1, 'avoir': 1, 'trophée ': 1, 'vélo ': 1, 'cadeau': 1, 'certificat': 1}, {'gare': 8, 'ville': 5, 'ville ': 4, 'place ': 1, 'seine': 1, 'grande ville': 1, 'place': 1, 'capitale': 1, 'mairie ': 1, 'maroquinerie': 1, 'fac': 1, 'plage': 1}, {'gay': 10, 'gay ': 3, 'malade': 3, 'partie': 1, 'avec sa meilleure amie ': 1, 'amoureux ': 1, 'malheur ': 1, 'parti': 1, 'déprimé ': 1, 'homosexuel': 1, 'homosexuel ': 1, 'divorcé': 1, 'belge': 1}, {'dépêcher ': 5, 'taire': 3, 'marier': 3, 'dépêcher': 3, 'calmer': 2, 'faire couper les cheveux ': 1, 'reposer': 1, 'marier ': 1, 'laver': 1, 'fâcher': 1, 'calmer ': 1, 'coucher ': 1, 'chier': 1, 'méfier ': 1, 'voir': 1}, {'endormi': 3, 'endormi ': 2, 'coincé ': 2, 'la': 1, 'seul': 1, 'triste ': 1, 'fatigué ': 1, 'choqué': 1, 'enfermé': 1, 'couché': 1, 'assis': 1, 'allongé ': 1, 'debout ': 1, 'sortie': 1, 'resté': 1, 'dedant ': 1, 'immobile': 1, 'tranquille ': 1, 'allongé': 1, 'bloqué': 1, 'sortir ': 1, 'sorti': 1}, {'mariage': 8, 'anniversaire ': 5, 'anniversaire': 2, 'marriage': 2, 'mariage ': 2, 'bal ': 1, 'bac': 1, 'plaisir ': 1, 'nouvel an': 1, 'gala': 1, 'bal': 1, 'rendez-vous': 1}, {'construite': 4, 'peinte ': 2, 'dessiné': 2, 'faite': 1, 'décrite ': 1, 'creusée ': 1, 'décorée': 1, 'photographié': 1, 'repeinte': 1, 'fait': 1, 'remplie d’eau ': 1, 'faite ': 1, 'construit': 1, 'construite ': 1, 'creusé': 1, 'remplie': 1, 'peinte': 1, 'montre': 1, 'dessinée': 1, 'visiter ': 1, 'créée': 1}, {'lentement ': 4, 'souvent': 2, 'tard ': 2, ' de soupe': 1, 'vite': 1, 'chaud': 1, 'gras': 1, 'de pâtes ': 1, 'encore': 1, 'oui': 1, 'tôt': 1, 'de bonbon': 1, 'de mac&cheese': 1, 'de pain': 1, 'proteiné ': 1, 'tôt ': 1, 'de féculents': 1, 'souvent ': 1, 'de poisson ': 1, 'de chocolat ': 1, 'tard': 1}, {'fête': 4, 'furie ': 2, 'colère ': 2, 'émoi': 2, 'vacances': 1, 'pleur': 1, 'liesse ': 1, 'liesse': 1, 'heureuse': 1, 'débandade': 1, 'ébullition': 1, 'émoi ': 1, 'feu': 1, 'attente ': 1, 'choque': 1, 'suspense ': 1, 'deuil': 1, 'fete': 1, 'itali': 1, 'furie': 1}, {'chance': 2, 'travailler ': 2, 'courage': 2, 'connaissances ': 1, 'sommeil': 1, 'cran': 1, 'connaissances': 1, 'volonté ': 1, 'réviser': 1, 'savoir': 1, 'talent': 1, 'reviser': 1, 'entraînement': 1, 'lettre': 1, 'révisons ': 1, 'toupet': 1, 'stratégies': 1, 'réviser ': 1, 'préparation': 1, 'temps': 1, 'temps ': 1, 'cocaine': 1, 'ressources': 1}, {'mots': 7, 'outils': 6, 'mots ': 2, 'termes ': 2, 'termes': 2, 'sentiment ': 1, 'achat': 1, 'couverts ': 1, 'ingrédient': 1, 'arguments ': 1, 'plans': 1, 'outils ': 1}, {'faire': 9, 'faire ': 2, 'organiser ': 2, 'nettoyer': 2, 'arranger ': 1, 'ranger ': 1, 'nettoyer ': 1, 'gérer': 1, 'régler ': 1, 'détruire ': 1, 'réparer ': 1, 'arranger': 1, 'aider': 1, 'réorganiser': 1, 'contrôler ': 1}, {'mangé': 3, 'chanté': 2, 'appelé': 1, 'participé': 1, 'sauté ': 1, 'réussit ': 1, 'réussi': 1, 'd’amis': 1, 'mangé ': 1, 'pensé': 1, 'percuté': 1, 'fait la vaisselle ': 1, 'vu': 1, 'revenue': 1, 'dormi ': 1, 'bu': 1, 'essayé': 1, 'le covid': 1, 'appelé ': 1, 'répondu ': 1, 'une voiture ': 1, 'une montre': 1, 'là': 1}, {'chien': 3, 'chose': 2, 'vache ': 1, 'crétin': 1, 'tortue': 1, 'mammifère ': 1, 'classification': 1, 'couverture ': 1, '?': 1, 'poisson ': 1, 'singe': 1, 'plante': 1, \"d'écriture\": 1, 'personne ': 1, 'chat': 1, 'malentendu ': 1, 'mammifères ': 1, 'papier': 1, 'lézard': 1, 'l’histoire ?': 1, 'roman ': 1, 'extra terrestre ': 1, 'champignon': 1}, {'terrain': 8, 'match': 2, 'projet ': 2, 'sujet': 2, 'spectacle': 1, 'coup de pied': 1, 'travail ': 1, 'concert': 1, 'devoir': 1, 'parcourt': 1, 'projet': 1, 'organisation ': 1, 'programme ': 1, 'programme': 1, 'terrain ': 1, 'marathon ': 1}, {'pleurer ': 4, 'crier': 2, 'bouger': 2, 'courrir': 1, 'pleurer': 1, 'gémir ': 1, 'danser': 1, 'tituber': 1, 'trembler': 1, 'bailler': 1, 'chanter': 1, 'convulser ': 1, 'ronfler ': 1, 'crier ': 1, 'courir': 1, 'terre': 1, 'rire': 1, 'huirr': 1, 'bouger ': 1, 'rigoler ': 1, 'voler': 1}, {'le mariage ': 2, 'seul': 2, 'le trajet': 2, 'lui-même': 2, 'lui même ': 1, 'leur déménagement ': 1, 'le déménagement ': 1, '?': 1, 'rapidement ': 1, 'ça': 1, \"l'evenement\": 1, 'le marriage': 1, 'lendroit': 1, 'une fête ': 1, 'placards ': 1, 'l’événement ': 1, 'lui-même ': 1, 'le repas': 1, 'les travaux': 1, 'ce qu’il fallait ': 1, 'argent ': 1, 'finement ': 1}, {'mort': 8, 'directrice ': 2, 'foule': 2, 'guerre': 2, 'hauteur': 1, 'nuit': 1, 'mer ': 1, 'rouille': 1, 'foule ': 1, 'musique ': 1, 'voie lactée': 1, 'défaite': 1, 'foudre': 1, 'retraite': 1, 'varicelle ': 1, 'mer': 1}, {'pain': 5, 'livre': 3, 'parapluie ': 2, 'téléphone ': 1, 'vélo': 1, 'poisson': 1, 'gâteau ': 1, 'cartable': 1, 'journal ': 1, 'couteau': 1, 'tricycle ': 1, 'calcon': 1, 'sandwich ': 1, 'navet': 1, 'pain au chocolat ': 1, 'habit ': 1, 'croissant ': 1, 'mouton ': 1, 'chat': 1}, {'droitier': 3, 'ambidextre (=les deux)': 1}] \n",
    "\n",
    "df1 = pd.DataFrame(data = d1,index = col_name1)\n",
    "\n",
    "#df1.to_csv('pilot1.csv', encoding=\"utf-8-sig\")\n",
    "###\n",
    "\n",
    "p2 = pd.read_csv('Pilot_2.csv',encoding=\"utf-8-sig\",index_col=0)\n",
    "col_name2 = list(p2)\n",
    "d2 = []\n",
    "\n",
    "for col in p2.columns:\n",
    "    p2[col] = p2[col].str.lower()\n",
    "    dic2 = p2[col].value_counts().to_dict()\n",
    "    d2.append(dic2)\n",
    "\n",
    "for item in d:\n",
    "    item = str(item)\n",
    "\n",
    "d2 = [\"{'oui': 26}\", {'femme': 18, 'homme': 8}, {'18 - 25': 13, '26 - 35': 9, '46 - 55': 2, '36 - 45': 2}, {'master ou équivalent': 15, 'doctorat': 6, 'bts, dut, licence ou équivalent': 5}, {'cousins': 3, 'frères ': 2, 'amis': 2, 'd’accord': 2, 'amis ': 2, 'collègues ': 2, 'ennemis': 1, 'frères': 1, 'pareils': 1, 'proches': 1, 'amoureux': 1, 'potes': 1, \"d'accord\": 1, 'pareils ': 1, 'voisins': 1, 'laids': 1, \"d'accord \": 1, \"d'accords\": 1, 'gentils': 1}, {'mari': 9, 'chien': 5, 'père': 5, 'manteau': 3, 'chapeau': 2, 'chat': 1, 'chien ': 1}, {'belle': 4, 'propre': 3, 'hantée': 2, 'rangée': 2, 'vendue': 1, 'solide': 1, 'confortable': 1, 'construite': 1, 'adaptée ': 1, 'agréable à vivre ': 1, 'chauffée': 1, 'insonorisée': 1, 'belles': 1, 'construite ': 1, 'habitable': 1, 'en vente': 1, 'vide': 1, 'isolée': 1, 'close': 1}, {'parcours': 6, 'projet': 4, 'origine': 2, 'chemin ': 2, 'opinion': 2, 'orientation': 2, 'passé': 1, 'caractère ': 1, 'caractère': 1, 'passé ': 1, 'avis': 1, 'avenir ': 1, 'moral': 1, 'tempérament ': 1}, {'rencontrés ': 4, 'rencontrés': 4, 'débrouillés': 2, 'organisés': 2, 'coupés': 2, 'habillés ': 1, 'approvisionnés': 1, 'trompés ': 1, 'pris': 1, 'perdus ': 1, 'habillé': 1, 'fait mal': 1, 'battus': 1, 'trompé': 1, 'perdus': 1, 'rencontré ': 1, 'retrouvés': 1}, {'vie': 5, 'vie ': 2, 'voiture': 2, 'directrice ': 1, 'voiture ': 1, 'nation ': 1, 'république ': 1, 'fleur': 1, 'pétanque ': 1, 'plage': 1, 'directrice': 1, 'prison': 1, 'nourriture': 1, 'campagne': 1, 'mer': 1, 'france ': 1, 'rémunération acquise ': 1, 'société ': 1, 'route': 1, 'suisse': 1}, {'fois': 8, 'amie': 5, 'chaussure': 2, 'voiture': 1, 'pièce ': 1, 'chaussette ': 1, 'fille': 1, 'dent ': 1, 'amie ': 1, 'compagne': 1, 'montre': 1, 'clef': 1, 'écharpe ': 1, 'dent': 1}, {'chaude': 11, 'épaisse': 5, 'epaisse': 4, 'chaude ': 3, 'épaisse ': 3}, {'bonne': 14, 'bonne ': 2, 'fraiche': 1, 'nécessaire ': 1, 'équilibrée': 1, 'assortie': 1, 'forte': 1, 'adaptée ': 1, 'blanche': 1, 'salée': 1, 'assaisonnée ': 1, 'salée ': 1}, {'rue': 4, 'pluie': 2, 'maison ': 2, 'cuisine ': 2, 'voisine': 2, \"cour d'école \": 1, 'dispute': 1, 'voiture': 1, 'télévision': 1, 'salle à manger ': 1, 'cuisine': 1, 'mer': 1, 'fenêtre': 1, 'maison': 1, 'fête ': 1, 'porte': 1, 'tondeuse': 1, 'machine à laver': 1, 'fête': 1}, {'jeu': 6, 'gâteau ': 2, 'cadeau ': 2, 'spectacle': 1, 'break': 1, 'concert': 1, 'spectacle ': 1, 'goûter': 1, 'mechoui ': 1, 'enfant': 1, 'esclandre': 1, 'puit': 1, 'jeux': 1, 'gateau ': 1, 'voyage': 1, 'cache cache': 1, 'barbecue': 1, 'dessin': 1, 'puzzle': 1}, {'jambe': 5, 'montre': 4, 'cheville': 2, 'jambe ': 2, 'côte ': 1, 'coque de téléphone ': 1, 'poupée ': 1, 'pipe': 1, 'canne': 1, 'tasse': 1, 'chaîne': 1, 'paire de lunette ': 1, 'valise': 1, 'chaussure': 1, 'voiture': 1, 'table': 1, 'robe ': 1}, {'grimper': 8, 'voler': 7, 'courir': 3, 'grimper ': 2, 'manger': 1, 'courir ': 1, 'courrir ': 1, 'brouter ': 1, 'voler ': 1, 'avancer': 1}, {'rose': 9, 'bleu': 7, 'blanc': 2, 'jaune': 2, 'blanc ': 1, 'noir': 1, 'rouge ': 1, 'vert': 1, 'rose ': 1, 'orange': 1}, {'manche': 9, 'manche ': 2, 'queue ': 1, 'monnaie ': 1, 'mendicité ': 1, 'queue': 1, 'fête ': 1, 'cuisine': 1, 'causette': 1, 'police': 1, 'charcuterie': 1, 'vente': 1, 'guerre': 1, 'conversation ': 1, 'monnaie': 1, 'vaisselle': 1, 'caisse': 1}, {'manger': 5, 'observer': 3, 'lui': 2, 'droite': 1, 'franges': 1, 'rayures ': 1, 'sa droite': 1, 'paris': 1, 'regarder ': 1, 'epines': 1, 'lire ': 1, \"l'envers\": 1, 'prendre': 1, 'loquet': 1, 'regarder': 1, 'digérer ': 1, 'souhait': 1, 'voir': 1, 'lui-même ': 1}, {'dompter': 3, 'éduquer ': 2, 'dresser': 2, 'garder': 2, 'domestiquer': 2, 'apprivoiser': 2, 'elever': 1, 'maîtriser ': 1, 'entretenir ': 1, 'attraper ': 1, 'alimenter': 1, 'gérer ': 1, 'dreesser': 1, 'domestiquer ': 1, 'capturer ': 1, 'élever': 1, 'caresser': 1, 'dresser ': 1, 'nourrir': 1}, {'appartement ': 4, 'emploi': 4, 'appartement': 4, 'chat': 2, 'œuf': 1, 'badge': 1, 'pantalon': 1, 'travail': 1, 'remède': 1, 'indice': 1, 'chien': 1, 'travail ': 1, 'papier': 1, 'cahier': 1, 'job': 1, 'emploi ': 1}, {'livre': 3, 'carnet': 3, 'sac': 2, 'manteau': 2, 'agenda': 1, 'peignoir': 1, 'calepin': 1, 'bouquin': 1, 'pc': 1, 'téléphone': 1, 'jean ': 1, 'revolver': 1, 'journal intime ': 1, 'journal': 1, 'chapeau ': 1, 'ordinateur ': 1, 'manteau ': 1, 'cartable': 1, 'téléphone ': 1, 'châle': 1}, {'rêver ': 5, 'voyager': 4, 'rêver': 4, 'rire': 2, 'rire ': 1, 'vibrer': 1, 'rougir ': 1, \"s'évader\": 1, 'fremir': 1, 's’évader ': 1, 'frissonner ': 1, 'frissonner': 1, 'sourire': 1, 'dormir ': 1, 'pleurer': 1}, {'faute': 5, 'erreur': 3, 'indication': 2, 'image': 2, 'consigne': 1, 'épitaphe': 1, 'introduction ': 1, 'phrase': 1, 'faute ': 1, 'reduction ': 1, 'explication ': 1, 'introduction': 1, 'lettre': 1, 'conclusion ': 1, 'cgu': 1, 'légende ': 1, 'aide': 1, 'adresse': 1}, {'défaut': 8, 'défaut ': 6, 'atout': 5, 'atout ': 3, 'defaut': 1, 'handicap ': 1, 'defauty': 1, 'péché': 1}, {'sucette': 3, 'gifle': 3, 'claque': 3, 'fleur': 2, 'pomme': 2, 'réponse ': 1, 'tasse': 1, 'cigarette': 1, 'suprise': 1, 'compote  ': 1, 'claque ': 1, 'récompense': 1, 'leçon': 1, 'lettre': 1, 'surprise ': 1, 'crêpe ': 1, 'fessée': 1, 'rose': 1}, {'creusé': 3, 'emprunté': 3, 'emprunté ': 2, 'tracé': 2, 'tracés': 1, 'repéré ': 1, 'anticipé': 1, 'créé': 1, 'tracé ': 1, 'décides ': 1, 'baliser': 1, 'planifié': 1, 'fait ': 1, 'construit ': 1, 'découvert ': 1, 'débroussaillé': 1, 'nettoyé': 1, 'élagué ': 1, 'repérés': 1, 'appris': 1}, {'fixe': 3, 'versé ': 2, 'suffisant': 2, 'assez': 2, 'bon': 1, 'paye': 1, 'élevée ': 1, 'garanti': 1, 'soldé': 1, 'adéquat ': 1, 'viré': 1, 'ajuster à sa prestation ': 1, 'compté': 1, 'fixer': 1, 'adéquat': 1, 'autant ': 1, 'fiable': 1, 'prévu ': 1, 'correct': 1, 'élevé ': 1, 'adapté': 1}, {'copain': 9, 'ami': 4, 'copain ': 3, 'chéri ': 2, 'chien': 2, 'père ': 2, 'petit frère': 1, 'chien ': 1, 'compagnon': 1, 'amoureux': 1}, {'disparu': 9, 'parti': 4, 'fuit': 3, 'disparu ': 3, 'filé': 2, 'pris la fuite': 1, 'volé': 1, 'fui ': 1, 'fui': 1, 'fuit ': 1}, {'chiot': 22, 'chiot ': 3, 'clebard': 1}, {'tonne': 23, 'tone': 2, 'tonne ': 1}, {'blague': 9, 'surprise': 7, 'blague ': 7, 'surprise ': 1, 'frayeur': 1, 'farce': 1}, {'acide': 23, 'acide ': 1, 'frais': 1, 'bon ': 1}, {'le hameçon ': 3, 'sa canne': 3, \"l'hameçon\": 3, 'l’hamecon': 2, 'lui': 2, 'sa canne ': 2, 'sa canne à pêche ': 1, 'terre': 1, 'moi': 1, 'il manque un article ici': 1, 'hameçon ': 1, 'ligne': 1, 'son hameçon': 1, \"l'hameçon \": 1, 'l’hameçon ': 1, 'la canne': 1, 'canne': 1}, {'contrat': 15, 'contrat ': 5, 'baille': 1, 'bail': 1, 'document': 1, 'dossier': 1, 'contrat de confidentialité ': 1, 'dossier ': 1}, {'boue': 18, 'boue ': 6, 'terre': 2}, {'badge': 13, 'badge ': 5, 'mandat': 3, 'insigne': 3, 'passeport': 1, 'pass': 1}, {'foule': 20, 'foule ': 2, 'attention': 1, 'majorité de soldats': 1, 'cohue': 1, 'attente': 1}, {'mort': 24, 'décédé': 1, 'mort ': 1}, {'raser': 17, 'raser ': 5, 'taire': 2, 'retourner ': 1, 'laver': 1}, {'malade': 23, 'malade ': 2, 'dessus': 1}, {'anniversaire ': 14, 'anniversaire': 10, 'grand-père': 1, 'diplome': 1}, {'construite': 9, 'construit ': 4, 'construit': 2, 'fabriquée': 1, 'confectionné': 1, 'construit.': 1, 'faite': 1, 'fabriquer': 1, 'fabrique ': 1, 'aménagé': 1, 'construite ': 1, 'fabriqué': 1, 'peinte': 1, 'confectionnée ': 1}, {'vite': 21, 'rapidement ': 2, 'vite ': 2, 'rapidement': 1}, {'bazar': 6, 'désordre ': 5, 'pagaille': 4, 'bordel': 2, 'désordre': 2, 'en bazar': 1, 'bazard': 1, 'chantier': 1, 'bordel ': 1, 'desordre': 1, 'bazar ': 1, 'fouilli': 1}, {'forces': 21, 'forces ': 3, 'force': 1, 'force ': 1}, {'outils': 17, 'outils ': 2, 'compétences': 2, 'notes': 1, 'amis': 1, 'associés': 1, 'moyens ': 1, 'revenus': 1}, {'laver': 19, 'laver ': 5, 'vendre': 1, 'machine à laver': 1}, {'gagné': 15, 'gagné ': 6, 'gagne': 2, 'qualifiée': 1, 'gagner': 1, 'd’ambition ': 1}, {'abeille': 18, 'abeille ': 5, 'guêpe': 2, 'guêpe ': 1}, {'bateau': 15, 'bateau ': 7, 'bâteau': 2, 'navire': 1, 'rafiot': 1}, {'pleurer': 20, 'pleurer ': 3, 'saigner ': 2, 'saigner': 1}, {'enterrement ': 13, 'enterrement': 13}, {'pauvreté': 9, 'pauvreté ': 7, 'rue': 2, 'luxure': 1, 'classe aisée ': 1, 'misère ': 1, 'soie ': 1, 'pauvrete': 1, 'frustration ': 1, 'luxure ': 1, 'bourgeoisie ': 1}, {'chat': 21, 'chat ': 3, 'chaton': 1, ' chat': 1}, {'la france': 25, 'tunisienne ': 1}]\n",
    "df2 = pd.DataFrame(data = d2,index = col_name2)\n",
    "\n",
    "df2.to_csv('pilot2.csv', encoding=\"utf-8-sig\")\n",
    "    "
   ]
  },
  {
   "cell_type": "code",
   "execution_count": 34,
   "id": "207d21ae",
   "metadata": {},
   "outputs": [
    {
     "ename": "SyntaxError",
     "evalue": "invalid syntax (<unknown>, line 1)",
     "output_type": "error",
     "traceback": [
      "Traceback \u001b[1;36m(most recent call last)\u001b[0m:\n",
      "  File \u001b[0;32m\"C:\\Users\\hagar\\anaconda3\\lib\\site-packages\\IPython\\core\\interactiveshell.py\"\u001b[0m, line \u001b[0;32m3444\u001b[0m, in \u001b[0;35mrun_code\u001b[0m\n    exec(code_obj, self.user_global_ns, self.user_ns)\n",
      "  File \u001b[0;32m\"C:\\Users\\hagar\\AppData\\Local\\Temp/ipykernel_17736/2577140294.py\"\u001b[0m, line \u001b[0;32m21\u001b[0m, in \u001b[0;35m<module>\u001b[0m\n    df = df.apply(lambda x: ast.literal_eval(x))\n",
      "  File \u001b[0;32m\"C:\\Users\\hagar\\anaconda3\\lib\\site-packages\\pandas\\core\\series.py\"\u001b[0m, line \u001b[0;32m4357\u001b[0m, in \u001b[0;35mapply\u001b[0m\n    return SeriesApply(self, func, convert_dtype, args, kwargs).apply()\n",
      "  File \u001b[0;32m\"C:\\Users\\hagar\\anaconda3\\lib\\site-packages\\pandas\\core\\apply.py\"\u001b[0m, line \u001b[0;32m1043\u001b[0m, in \u001b[0;35mapply\u001b[0m\n    return self.apply_standard()\n",
      "  File \u001b[0;32m\"C:\\Users\\hagar\\anaconda3\\lib\\site-packages\\pandas\\core\\apply.py\"\u001b[0m, line \u001b[0;32m1098\u001b[0m, in \u001b[0;35mapply_standard\u001b[0m\n    mapped = lib.map_infer(\n",
      "  File \u001b[0;32m\"pandas\\_libs\\lib.pyx\"\u001b[0m, line \u001b[0;32m2859\u001b[0m, in \u001b[0;35mpandas._libs.lib.map_infer\u001b[0m\n",
      "  File \u001b[0;32m\"C:\\Users\\hagar\\AppData\\Local\\Temp/ipykernel_17736/2577140294.py\"\u001b[0m, line \u001b[0;32m21\u001b[0m, in \u001b[0;35m<lambda>\u001b[0m\n    df = df.apply(lambda x: ast.literal_eval(x))\n",
      "  File \u001b[0;32m\"C:\\Users\\hagar\\anaconda3\\lib\\ast.py\"\u001b[0m, line \u001b[0;32m62\u001b[0m, in \u001b[0;35mliteral_eval\u001b[0m\n    node_or_string = parse(node_or_string, mode='eval')\n",
      "\u001b[1;36m  File \u001b[1;32m\"C:\\Users\\hagar\\anaconda3\\lib\\ast.py\"\u001b[1;36m, line \u001b[1;32m50\u001b[1;36m, in \u001b[1;35mparse\u001b[1;36m\u001b[0m\n\u001b[1;33m    return compile(source, filename, mode, flags,\u001b[0m\n",
      "\u001b[1;36m  File \u001b[1;32m\"<unknown>\"\u001b[1;36m, line \u001b[1;32m1\u001b[0m\n\u001b[1;33m    {'d'accord': 5,'cousins': 3, 'frères ': 3, 'amis': 3, 'collègues ': 2, 'ennemis': 1,  'pareils': 2, 'proches': 1, 'amoureux': 1, 'potes': 1, 'voisins': 1, 'laids': 1, 'gentils': 1}\u001b[0m\n\u001b[1;37m        ^\u001b[0m\n\u001b[1;31mSyntaxError\u001b[0m\u001b[1;31m:\u001b[0m invalid syntax\n"
     ]
    }
   ],
   "source": [
    "import numpy as np\n",
    "import pandas as pd\n",
    "import seaborn as sns\n",
    "import ast\n",
    "import json\n",
    "\n",
    "pilot1 = pd.read_csv('pilot1.csv',encoding=\"utf-8-sig\",index_col=0)\n",
    "pilot2 = pd.read_csv('pilot2.csv',encoding=\"utf-8-sig\",index_col=0)\n",
    "\n",
    "frames =[pilot1,pilot2]\n",
    "df = pd.concat(frames)\n",
    "\n",
    "def append_quets(word):\n",
    "    new = '\"' + word + '\"'\n",
    "    return new\n",
    "\n",
    "\n",
    "#df['EDITED'] = df['EDITED'].apply(append_quets)\n",
    "\n",
    "df = df['EDITED'].astype('str')\n",
    "df = df.apply(lambda x: ast.literal_eval(x))\n",
    "df = df.apply(pd.Series)\n",
    "\n",
    "    \n",
    "df['EDITED']\n",
    "\n",
    "#pilots['target_prob'] = (pilots['EDITED']['target'])/26"
   ]
  }
 ],
 "metadata": {
  "kernelspec": {
   "display_name": "Python 3 (ipykernel)",
   "language": "python",
   "name": "python3"
  },
  "language_info": {
   "codemirror_mode": {
    "name": "ipython",
    "version": 3
   },
   "file_extension": ".py",
   "mimetype": "text/x-python",
   "name": "python",
   "nbconvert_exporter": "python",
   "pygments_lexer": "ipython3",
   "version": "3.9.7"
  }
 },
 "nbformat": 4,
 "nbformat_minor": 5
}
