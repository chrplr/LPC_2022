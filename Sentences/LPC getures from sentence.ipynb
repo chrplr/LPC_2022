{
 "cells": [
  {
   "cell_type": "markdown",
   "id": "281c47b0",
   "metadata": {},
   "source": [
    "# importing basic function from bf notebook:"
   ]
  },
  {
   "cell_type": "code",
   "execution_count": 11,
   "id": "5b582163",
   "metadata": {},
   "outputs": [],
   "source": [
    "import io\n",
    "import nbformat\n",
    "import pandas as pd\n",
    "import numpy as np\n",
    "\n",
    "def execute_notebook(nbfile):\n",
    "    with io.open(nbfile, encoding=\"utf8\") as f:\n",
    "        nb = nbformat.read(f, as_version=4)\n",
    "\n",
    "    ip = get_ipython()\n",
    "\n",
    "    for cell in nb.cells:\n",
    "        if cell.cell_type != 'code':\n",
    "            continue\n",
    "        ip.run_cell(cell.source)\n",
    "        \n",
    "        \n",
    "execute_notebook(r\"C:\\Users\\hagar\\OneDrive - mail.tau.ac.il\\Desktop\\Stage\\LPC_2022\\basic lpc functions\\LPC_Usefull_Functions.ipynb\")\n"
   ]
  },
  {
   "cell_type": "markdown",
   "id": "01f09c51",
   "metadata": {},
   "source": [
    "## Counting the numbers of LPC gestures for both sentences in to the file"
   ]
  },
  {
   "cell_type": "code",
   "execution_count": 12,
   "id": "93a0b467",
   "metadata": {
    "scrolled": true
   },
   "outputs": [],
   "source": [
    "df = pd.read_csv('corrected.csv', encoding=\"utf-8\")\n",
    "\n",
    "for index,row in df.iterrows():\n",
    "    p_sentence = row['Predictable end sentence']\n",
    "    pred_end_n_LPC = get_LPC_g(p_sentence)\n",
    "    pred_num_ltr = get_number_of_letters(p_sentence)\n",
    "    pred_num_words = get_number_of_words(p_sentence)\n",
    "    phon_pred = get_LPC_p_sentence(p_sentence)\n",
    "    \n",
    "    df.loc[index,\"pred_num_letters\"] = pred_num_ltr\n",
    "    df.loc[index,\"pred_end_n_LPC\"] = pred_end_n_LPC\n",
    "    df.loc[index,\"pred_num_words\"] = pred_num_words\n",
    "    \n",
    "    unp_sentence = row['Unpredictable end sentence']\n",
    "    unpred_end_n_LPC = get_LPC_g(unp_sentence)\n",
    "    unpred_num_ltr = get_number_of_letters(unp_sentence)\n",
    "    unpred_num_words = get_number_of_words(unp_sentence)\n",
    "    phon_unpred = get_LPC_p_sentence(unp_sentence)\n",
    "    df.loc[index,\"unpred_num_letters\"] = unpred_num_ltr\n",
    "    df.loc[index,\"unpred_end_n_LPC\"] = unpred_end_n_LPC\n",
    "    df.loc[index,\"unpred_num_words\"] = unpred_num_words\n",
    "    \n",
    "    df[\"delta_tletters\"] = df[\"pred_num_letters\"] - df[\"unpred_num_letters\"]\n",
    "    df[\"delta_words\"] = df[\"pred_num_words\"] - df[\"unpred_num_words\"]\n",
    "    # Creating the LPC delta should be done on the csv after verifing manually\n",
    "    \n",
    "    df.loc[index,\"phon_pred\"] = phon_pred\n",
    "    df.loc[index,\"phon_unpred\"] = phon_unpred\n",
    "    \n",
    "\n",
    "df.to_csv('corrected_sentences_with_LPC.csv', encoding=\"utf-8-sig\",index=False)\n",
    "\n",
    "\n",
    "\n"
   ]
  }
 ],
 "metadata": {
  "kernelspec": {
   "display_name": "Python 3 (ipykernel)",
   "language": "python",
   "name": "python3"
  },
  "language_info": {
   "codemirror_mode": {
    "name": "ipython",
    "version": 3
   },
   "file_extension": ".py",
   "mimetype": "text/x-python",
   "name": "python",
   "nbconvert_exporter": "python",
   "pygments_lexer": "ipython3",
   "version": "3.9.7"
  }
 },
 "nbformat": 4,
 "nbformat_minor": 5
}
