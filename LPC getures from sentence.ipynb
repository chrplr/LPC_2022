{
 "cells": [
  {
   "cell_type": "code",
   "execution_count": 32,
   "id": "dffb7afe",
   "metadata": {},
   "outputs": [],
   "source": [
    "import numpy as np\n",
    "import pandas as pd\n",
    "\n",
    "\n",
    "lex = pd.read_csv('Lexique380.utf8.csv')\n",
    "#lex = pd.read_csv('test.csv')\n",
    "lex = lex[(lex.ortho.str.contains('-| ') == False) & (lex.phon.str.contains('°') == False)]  # suppress schwa\n",
    "lex = lex.drop_duplicates(subset='ortho', keep=\"first\")\n",
    "lex = lex[['ortho', 'p_cvcv','nbhomogr']]\n",
    "dic = lex.set_index('ortho').to_dict()\n",
    "\n",
    "p_dic = dic['p_cvcv']\n",
    "n_dic = dic['nbhomogr']\n"
   ]
  },
  {
   "cell_type": "code",
   "execution_count": 33,
   "id": "22f4683c",
   "metadata": {},
   "outputs": [],
   "source": [
    "def get_LPC_g(sentence):\n",
    "    sentence = sentence.lower()\n",
    "    sentence = sentence.replace('.', '')\n",
    "    snt_to_wlst = sentence.split(\" \")\n",
    "    LPC_gustures = 0 \n",
    "    e = 0\n",
    "    no_in_db = []\n",
    "    more_ortho ={}\n",
    "\n",
    "    \n",
    "    for word in snt_to_wlst:\n",
    "        if word in p_dic:\n",
    "            #print(word, p_dic[word])\n",
    "            e = 1\n",
    "            if p_dic[word][0] == 'V':\n",
    "                LPC_gustures += 1\n",
    "            for letter in p_dic[word]:\n",
    "                if letter == 'C':\n",
    "                    LPC_gustures += 1\n",
    "            if n_dic[word] != 1:\n",
    "                more_ortho[word] = p_dic[word]\n",
    "\n",
    "        else: \n",
    "            e = 0\n",
    "        if e == 0 :\n",
    "            no_in_db.append(word)\n",
    "        \n",
    "    \n",
    "    if no_in_db == [] and more_ortho == []:\n",
    "        return f'{LPC_gustures}'\n",
    "    if no_in_db == [] and more_ortho != []:\n",
    "        return f'{LPC_gustures}, check the cv for: {more_ortho}'\n",
    "    else:\n",
    "        return f'{LPC_gustures}, except {no_in_db}, check the cv for: {more_ortho}'\n",
    "\n",
    "\n",
    "    \n"
   ]
  },
  {
   "cell_type": "code",
   "execution_count": 34,
   "id": "a5588efa",
   "metadata": {},
   "outputs": [],
   "source": [
    "def get_number_of_letters(sentence):\n",
    "    sentence = sentence.lower()\n",
    "    sentence = sentence.replace(' ', '')\n",
    "    return len(sentence)\n",
    "    "
   ]
  },
  {
   "cell_type": "markdown",
   "id": "01f09c51",
   "metadata": {},
   "source": [
    "## Counting the numbers of LPC gestures for both sentences in to the file"
   ]
  },
  {
   "cell_type": "code",
   "execution_count": 35,
   "id": "93a0b467",
   "metadata": {
    "scrolled": true
   },
   "outputs": [],
   "source": [
    "df = pd.read_csv('CUSTIME_sentence_predictability.csv', encoding=\"utf-8\")\n",
    "\n",
    "for index,row in df.iterrows():\n",
    "    p_sentence = row['Predictable end sentence']\n",
    "    pred_end_n_LPC = get_LPC_g(p_sentence)\n",
    "    pred_num_ltr = get_number_of_letters(p_sentence)\n",
    "    df.loc[index,\"pred_num_letters\"] = pred_num_ltr\n",
    "    df.loc[index,\"pred_end_n_LPC\"] = pred_end_n_LPC\n",
    "    \n",
    "    unp_sentence = row['Unpredictable end sentence']\n",
    "    unpred_end_n_LPC = get_LPC_g(unp_sentence)\n",
    "    unpred_num_ltr = get_number_of_letters(unp_sentence)\n",
    "    df.loc[index,\"unpred_num_letters\"] = unpred_num_ltr\n",
    "    df.loc[index,\"unpred_end_n_LPC\"] = unpred_end_n_LPC\n",
    "    \n",
    "\n",
    "df.to_csv('CUSTIME_sentence_predictability_with_LPC.csv', encoding=\"utf-8-sig\")\n",
    "\n",
    "\n",
    "\n"
   ]
  },
  {
   "cell_type": "code",
   "execution_count": null,
   "id": "d0838d9c",
   "metadata": {},
   "outputs": [],
   "source": []
  }
 ],
 "metadata": {
  "kernelspec": {
   "display_name": "Python 3 (ipykernel)",
   "language": "python",
   "name": "python3"
  },
  "language_info": {
   "codemirror_mode": {
    "name": "ipython",
    "version": 3
   },
   "file_extension": ".py",
   "mimetype": "text/x-python",
   "name": "python",
   "nbconvert_exporter": "python",
   "pygments_lexer": "ipython3",
   "version": "3.9.7"
  }
 },
 "nbformat": 4,
 "nbformat_minor": 5
}
