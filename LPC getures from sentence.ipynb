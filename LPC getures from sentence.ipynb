{
 "cells": [
  {
   "cell_type": "code",
   "execution_count": 5,
   "id": "dffb7afe",
   "metadata": {},
   "outputs": [],
   "source": [
    "import numpy as np\n",
    "import pandas as pd\n",
    "\n",
    "\n",
    "lex = pd.read_csv('Lexique380.utf8.csv')\n",
    "#lex = pd.read_csv('test.csv')\n",
    "lex = lex[(lex.ortho.str.contains('-| ') == False) & (lex.phon.str.contains('°') == False)]  # suppress schwa\n",
    "lex = lex.drop_duplicates(subset='ortho', keep=\"first\")\n",
    "lex = lex[['ortho', 'p_cvcv','nbhomogr']]\n",
    "dic = lex.set_index('ortho').to_dict()\n",
    "\n",
    "p_dic = dic['p_cvcv']\n",
    "n_dic = dic['nbhomogr']\n"
   ]
  },
  {
   "cell_type": "code",
   "execution_count": 10,
   "id": "22f4683c",
   "metadata": {},
   "outputs": [],
   "source": [
    "def get_LPC_g(sentence):\n",
    "    sentence = sentence.lower()\n",
    "    sentence = sentence.replace('.', '')\n",
    "    snt_to_wlst = sentence.split(\" \")\n",
    "    LPC_gustures = 0 \n",
    "    e = 0\n",
    "    no_in_db = []\n",
    "    more_ortho ={}\n",
    "    \n",
    "    for word in snt_to_wlst:\n",
    "        if word in p_dic:\n",
    "            #print(word, p_dic[word])\n",
    "            e = 1\n",
    "            if p_dic[word][0] == 'V':\n",
    "                LPC_gustures += 1\n",
    "            for letter in p_dic[word]:\n",
    "                if letter == 'C':\n",
    "                    LPC_gustures += 1\n",
    "            if n_dic[word] != 1:\n",
    "                more_ortho[word] = p_dic[word]\n",
    "\n",
    "        else: \n",
    "            e = 0\n",
    "        if e == 0 :\n",
    "            no_in_db.append(word)\n",
    "        \n",
    "    \n",
    "    if no_in_db == [] and more_ortho == []:\n",
    "        return f'{LPC_gustures}'\n",
    "    if no_in_db == [] and more_ortho != []:\n",
    "        return f'{LPC_gustures}, check the cv for: {more_ortho}'\n",
    "    else:\n",
    "        return f'{LPC_gustures}, except {no_in_db}, check the cv for: {more_ortho}'\n",
    "\n",
    "\n",
    "    \n"
   ]
  },
  {
   "cell_type": "code",
   "execution_count": 11,
   "id": "a5588efa",
   "metadata": {},
   "outputs": [
    {
     "name": "stdout",
     "output_type": "stream",
     "text": [
      "6, check the cv for: {'la': 'CV', 'est': 'V', 'belle': 'CVC'}\n"
     ]
    }
   ],
   "source": [
    "print(get_LPC_g(\"La femme est belle.\"))"
   ]
  },
  {
   "cell_type": "markdown",
   "id": "01f09c51",
   "metadata": {},
   "source": [
    "## Counting the numbers of LPC gestures for both sentences in to the file"
   ]
  },
  {
   "cell_type": "code",
   "execution_count": 27,
   "id": "93a0b467",
   "metadata": {
    "scrolled": true
   },
   "outputs": [
    {
     "name": "stdout",
     "output_type": "stream",
     "text": [
      "                            Predictable end sentence  \\\n",
      "0  Les deux jeunes étudiants se sont rencontrés e...   \n",
      "1  Les jours ensoleillés, Jake se rend au parc po...   \n",
      "2  Briser un miroir vous causera des années de ma...   \n",
      "3  Lily l’avait détesté dès le moment où ils s'ét...   \n",
      "4  Les faux jumeaux étaient aussi différents que ...   \n",
      "\n",
      "                          Unpredictable end sentence  Taget word  \\\n",
      "0  Les collègues ne s'attendent pas à revenir là ...    amoureux   \n",
      "1  Les jeunes femmes avaient toujours aimé se bal...       chien   \n",
      "2  Les collègues ne s'attendent pas à revenir là ...      chaude   \n",
      "3  Les collègues ne s'attendent pas à revenir là ...  rencontrés   \n",
      "4  Les jeunes femmes avaient toujours aimé se bal...        nuit   \n",
      "\n",
      "  Nb lpc gestures/nb words  Unnamed: 4  \\\n",
      "0              1: / ; 2: /         NaN   \n",
      "1              1: / ; 2: /         NaN   \n",
      "2              1: / ; 2: /         NaN   \n",
      "3              1: / ; 2: /         NaN   \n",
      "4              1: / ; 2: /         NaN   \n",
      "\n",
      "                                          Unnamed: 5  \\\n",
      "0                                                NaN   \n",
      "1                                                NaN   \n",
      "2                                                NaN   \n",
      "3  - Created corresponding \"Unpredictable end\" se...   \n",
      "4                                                NaN   \n",
      "\n",
      "                                      pred_end_n_LPC  \\\n",
      "0  20, except ['rapidement'], check the cv for: {...   \n",
      "1  17, except ['ensoleillés,', 'jake'], check the...   \n",
      "2  15, except ['causera', '?'], check the cv for:...   \n",
      "3  15, except ['lily', 'l’avait', \"s'étaient\"], c...   \n",
      "4  18, check the cv for: {'les': 'CV', 'faux': 'C...   \n",
      "\n",
      "                                    unpred_end_n_LPC  \n",
      "0  17, except [\"s'attendent\", 'revenir'], check t...  \n",
      "1  20, check the cv for: {'les': 'CV', 'jeunes': ...  \n",
      "2  17, except [\"s'attendent\", 'revenir'], check t...  \n",
      "3  17, except [\"s'attendent\", 'revenir'], check t...  \n",
      "4  20, check the cv for: {'les': 'CV', 'jeunes': ...  \n"
     ]
    }
   ],
   "source": [
    "df = pd.read_csv('test1.csv', encoding=\"utf-8\")\n",
    "\n",
    "for index,row in df.iterrows():\n",
    "    p_sentence = row['Predictable end sentence']\n",
    "    pred_end_n_LPC = get_LPC_g(p_sentence)\n",
    "    df.loc[index,\"pred_end_n_LPC\"] = pred_end_n_LPC\n",
    "    unp_sentence = row['Unpredictable end sentence']\n",
    "    unpred_end_n_LPC = get_LPC_g(unp_sentence)\n",
    "    df.loc[index,\"unpred_end_n_LPC\"] = unpred_end_n_LPC\n",
    "\n",
    "df.to_csv('CUSTIME_sentence_predictability_with_LPC.csv', encoding=\"utf-8-sig\")\n",
    "\n",
    "\n",
    "\n"
   ]
  },
  {
   "cell_type": "code",
   "execution_count": null,
   "id": "d0838d9c",
   "metadata": {},
   "outputs": [],
   "source": []
  }
 ],
 "metadata": {
  "kernelspec": {
   "display_name": "Python 3 (ipykernel)",
   "language": "python",
   "name": "python3"
  },
  "language_info": {
   "codemirror_mode": {
    "name": "ipython",
    "version": 3
   },
   "file_extension": ".py",
   "mimetype": "text/x-python",
   "name": "python",
   "nbconvert_exporter": "python",
   "pygments_lexer": "ipython3",
   "version": "3.9.7"
  }
 },
 "nbformat": 4,
 "nbformat_minor": 5
}
