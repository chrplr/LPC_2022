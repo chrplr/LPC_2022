{
 "cells": [
  {
   "cell_type": "code",
   "execution_count": 291,
   "id": "dffb7afe",
   "metadata": {},
   "outputs": [],
   "source": [
    "import numpy as np\n",
    "import pandas as pd\n",
    "\n",
    "\n",
    "lex = pd.read_csv('Lexique380.utf8.csv')\n",
    "lex = lex[(lex.ortho.str.contains('-| ') == False) & (lex.phon.str.contains('°') == False)]  # suppress schwa\n",
    "lex = lex[(lex.ortho.str.contains('-') == False)]\n",
    "lex = lex[['ortho', 'p_cvcv']]\n",
    "dic = lex.set_index('ortho').to_dict()\n",
    "dic = dic['p_cvcv']"
   ]
  },
  {
   "cell_type": "code",
   "execution_count": 324,
   "id": "22f4683c",
   "metadata": {},
   "outputs": [],
   "source": [
    "def get_LPC_g(sentence):\n",
    "    sentence = sentence.lower()\n",
    "    sentence = sentence.replace('.', '')\n",
    "    snt_to_wlst = sentence.split(\" \")\n",
    "    LPC_gustures = 0 \n",
    "    e = 0\n",
    "    no_in_db = []\n",
    "    \n",
    "    for word in snt_to_wlst:\n",
    "        if word in dic:\n",
    "            #print(word, dic[word])\n",
    "            e = 1\n",
    "            if dic[word][0] == 'V':\n",
    "                LPC_gustures += 1\n",
    "            for letter in dic[word]:\n",
    "                if letter == 'C':\n",
    "                    LPC_gustures += 1\n",
    "        else: \n",
    "            e = 0\n",
    "        if e == 0 :\n",
    "            no_in_db.append(word)\n",
    "    \n",
    "    if no_in_db == []:\n",
    "        return f'{LPC_gustures}'\n",
    "    else:\n",
    "        return f'{LPC_gustures}, except {no_in_db}'\n",
    "\n",
    "\n",
    "    \n"
   ]
  },
  {
   "cell_type": "code",
   "execution_count": 325,
   "id": "a5588efa",
   "metadata": {},
   "outputs": [
    {
     "name": "stdout",
     "output_type": "stream",
     "text": [
      "13, except ['ֳ©taient', 'diffֳ©rents']\n"
     ]
    }
   ],
   "source": [
    "print(get_LPC_g(\"Les faux jumeaux ֳ©taient aussi diffֳ©rents que le jour et la nuit.\"))"
   ]
  },
  {
   "cell_type": "markdown",
   "id": "27e6944d",
   "metadata": {},
   "source": [
    "## Counting the numbers of LPC gestures for both sentences in to the file"
   ]
  },
  {
   "cell_type": "code",
   "execution_count": 326,
   "id": "93a0b467",
   "metadata": {
    "scrolled": true
   },
   "outputs": [],
   "source": [
    "df = pd.read_csv('test1.csv')\n",
    "\n",
    "for index,row in df.iterrows():\n",
    "    p_sentence = row['\"Predictable end\" sentence']\n",
    "    pred_end_n_LPC = get_LPC_g(p_sentence)\n",
    "    df.loc[index,\"pred_end_n_LPC\"] = pred_end_n_LPC\n",
    "    unp_sentence = row['\"Unpredictable end\" sentence']\n",
    "    unpred_end_n_LPC = get_LPC_g(unp_sentence)\n",
    "    df.loc[index,\"unpred_end_n_LPC\"] = unpred_end_n_LPC\n",
    "\n",
    "df.to_csv('CUSTIME_sentence_predictability_with_LPC.csv')\n",
    "\n",
    "\n",
    "\n"
   ]
  }
 ],
 "metadata": {
  "kernelspec": {
   "display_name": "Python 3 (ipykernel)",
   "language": "python",
   "name": "python3"
  },
  "language_info": {
   "codemirror_mode": {
    "name": "ipython",
    "version": 3
   },
   "file_extension": ".py",
   "mimetype": "text/x-python",
   "name": "python",
   "nbconvert_exporter": "python",
   "pygments_lexer": "ipython3",
   "version": "3.9.7"
  }
 },
 "nbformat": 4,
 "nbformat_minor": 5
}
