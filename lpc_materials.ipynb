{
 "cells": [
  {
   "cell_type": "markdown",
   "id": "6f871498",
   "metadata": {},
   "source": [
    "# Selection of Materials for LPC lexical decision experiment"
   ]
  },
  {
   "cell_type": "code",
   "execution_count": null,
   "id": "5353bf4d",
   "metadata": {},
   "outputs": [],
   "source": [
    "EXP_DURATION = 10 * 60\n",
    "\n",
    "TRIAL_DURATION = 3  # à voir si 4 ou 5 secondes\n",
    "\n",
    "NB_TRIALS_TOTAL = EXP_DURATION / TRIAL_DURATION \n",
    "\n",
    "NB_TRIALS_TOTAL\n",
    "\n",
    "NB_PSEUDOS = .2 * NB_TRIALS_TOTAL  #  20 % of trials are pseudowords\n",
    "\n",
    "NB_WORDS = NB_TRIALS_TOTAL - NB_PSEUDOS\n",
    "\n",
    "print(f'npseudos={NB_PSEUDOS}  nwords={NB_WORDS}')"
   ]
  },
  {
   "cell_type": "code",
   "execution_count": null,
   "id": "acc46b83",
   "metadata": {},
   "outputs": [],
   "source": [
    "import numpy as np\n",
    "import pandas as pd\n",
    "\n",
    "pd.set_option(\"display.max_rows\", None)\n",
    "\n",
    "lex = pd.read_csv('Lexique380.utf8.csv.gz')\n",
    "lex.head()\n",
    "lex.columns\n",
    "lex = lex[(lex.ortho.str.contains('-| ') == False) & (lex.phon.str.contains('°') == False)]  # suppress schwa\n",
    "lex = lex[['ortho', 'phon', 'cgram', 'islem', 'freqlemfilms2', 'freqfilms2', 'freqlemlivres', 'freqlivres', 'p_cvcv', 'cvcv', 'nbsyll', 'nblettres']]"
   ]
  },
  {
   "cell_type": "markdown",
   "id": "55337fae",
   "metadata": {},
   "source": [
    "# Words selection \n",
    "\n",
    "To keep the LPC length constant (3 visual syllables), we select words wit 3 (phonetic) consonants.  \n",
    "\n",
    "\n",
    "   \n",
    "Experimental factors:    \n",
    "- Lexical frequency (\n",
    "     * Low freq (LF) \n",
    "     * High freq (HF).\n",
    "- Syllabic match beteen LPC and phonetic output  \n",
    "         * Match: phon=CVCVCV \n",
    "         * Mismatch: \n",
    "               - 2 mismatch -> monosyll: CCCV, CCVC, CVCC\n",
    "               - 1 mismatch -> bisyllabic: CVCVC CVCCV \n",
    "               \n",
    "               \n",
    "need to be taken down from the database:\n",
    "19359\n",
    "38824\n",
    "114783"
   ]
  },
  {
   "cell_type": "code",
   "execution_count": null,
   "id": "bb57de3b",
   "metadata": {},
   "outputs": [],
   "source": [
    "## Frequency thresholds \n",
    "\n",
    "LF_MIN = 0.3\n",
    "LF_MAX = 2\n",
    "\n",
    "HF_MIN = 10 \n"
   ]
  },
  {
   "cell_type": "code",
   "execution_count": null,
   "id": "7d30b1ae",
   "metadata": {},
   "outputs": [],
   "source": [
    "cvcvcv = lex[(lex.p_cvcv == 'CVCVCV')  & (lex.islem == True) & (lex.freqlemfilms2 > LF_MIN) & (lex.nblettres <10)] # 0 missmatch\n",
    "ncvcvcv1m = lex[(lex.p_cvcv.isin(['CVCVC', 'CVCCV']))  & (lex.islem == True) & (lex.freqlemfilms2 > LF_MIN) & (lex.nblettres <10)] # 1 missmatch\n",
    "ncvcvcv2m = lex[(lex.p_cvcv.isin(['CCVC','CVCC', 'CCCV']))  & (lex.islem == True) & (lex.freqlemfilms2 > LF_MIN) & (lex.nblettres <10)] # 2 missmatch"
   ]
  },
  {
   "cell_type": "code",
   "execution_count": null,
   "id": "c83befb9",
   "metadata": {},
   "outputs": [],
   "source": [
    "cvcvcv_hf = cvcvcv[(cvcvcv.freqlemfilms2 > HF_MIN) & (cvcvcv.freqlemlivres > HF_MIN)] \n",
    "print(cvcvcv_hf.shape)\n",
    "cvcvcv_hf[['ortho', 'phon', 'freqlivres', 'freqfilms2']].head(1000)\n",
    "\n",
    "np.log10(cvcvcv_hf.freqlivres).describe()\n",
    "                                                            "
   ]
  },
  {
   "cell_type": "code",
   "execution_count": null,
   "id": "8d2ddfb9",
   "metadata": {},
   "outputs": [],
   "source": [
    "cvcvcv_lf = cvcvcv[(cvcvcv.freqlemfilms2 < LF_MAX) & (cvcvcv.freqlemlivres < LF_MAX)]\n",
    "print(cvcvcv_lf.shape)\n",
    "cvcvcv_lf[['ortho', 'phon', 'freqlivres', 'freqfilms2']].head(1000) # it was [['ortho','freqfilms2']].head(385), why?"
   ]
  },
  {
   "cell_type": "code",
   "execution_count": null,
   "id": "e98196db",
   "metadata": {},
   "outputs": [],
   "source": [
    "ncvcvcv1m_hf = ncvcvcv1m[(ncvcvcv1m.freqlemfilms2 > HF_MIN) & (ncvcvcv1m.freqlemlivres > HF_MIN)] # changed to \"and\"\n",
    "print(ncvcvcv1m_hf.shape)\n",
    "ncvcvcv1m_hf[['ortho', 'freqlivres', 'freqfilms2']].head(1000)\n"
   ]
  },
  {
   "cell_type": "code",
   "execution_count": null,
   "id": "30317dfb",
   "metadata": {},
   "outputs": [],
   "source": [
    "# select a subsample matched in frequency with cvcvcv\n",
    "\n",
    "n = 60\n",
    "\n",
    "ok= False\n",
    "while (not ok):\n",
    "    tmp = ncvcvcv1m_hf.sample(n)\n",
    "    e = np.log10(tmp.freqlivres+0.1).median()\n",
    "    ok = (e< 1.15)\n",
    "\n",
    "print(e)\n",
    "np.log10(tmp.freqlivres+0.1).describe()\n",
    "tmp\n",
    "ncvcvcv1m_hf = tmp"
   ]
  },
  {
   "cell_type": "code",
   "execution_count": null,
   "id": "8012d1a3",
   "metadata": {},
   "outputs": [],
   "source": [
    "ncvcvcv1m_lf = ncvcvcv1m[(ncvcvcv1m.freqlemfilms2 < LF_MAX) & (ncvcvcv1m.freqlemlivres < LF_MAX) & (ncvcvcv1m.freqlemfilms2 > LF_MIN)]\n",
    "print(ncvcvcv1m_lf.shape)\n",
    "ncvcvcv1m_lf[['ortho', 'freqlivres', 'freqfilms2']].head(1000)"
   ]
  },
  {
   "cell_type": "code",
   "execution_count": null,
   "id": "c3665bb4",
   "metadata": {},
   "outputs": [],
   "source": [
    "ncvcvcv2m_hf = ncvcvcv2m[(ncvcvcv2m.freqlemfilms2 > HF_MIN) & (ncvcvcv2m.freqlemlivres > HF_MIN)] #chaged to \"and\"\n",
    "print(ncvcvcv2m_hf.shape)\n",
    "ncvcvcv2m_hf[['ortho', 'freqlivres', 'freqfilms2']].head(1000)\n",
    "np.log10(ncvcvcv2m_hf.freqlivres+0.1).describe()\n"
   ]
  },
  {
   "cell_type": "code",
   "execution_count": null,
   "id": "026c2dd0",
   "metadata": {},
   "outputs": [],
   "source": [
    "# select a subsample matched in frequency with cvcvcv\n",
    "\n",
    "n = 60\n",
    "\n",
    "ok= False\n",
    "while (not ok):\n",
    "    tmp = ncvcvcv2m_hf.sample(n)\n",
    "    e = np.log10(tmp.freqlivres+0.1).median()\n",
    "    ok = (e< 1.6)\n",
    "\n",
    "print(e)\n",
    "np.log10(tmp.freqlivres+0.1).describe()\n",
    "ncvcvcv2m_hf = tmp"
   ]
  },
  {
   "cell_type": "code",
   "execution_count": null,
   "id": "205439a6",
   "metadata": {},
   "outputs": [],
   "source": [
    "ncvcvcv2m_lf = ncvcvcv2m[(ncvcvcv2m.freqlemfilms2 < LF_MAX) & (ncvcvcv2m.freqlemlivres < LF_MAX)]\n",
    "print(ncvcvcv2m_lf.shape)\n",
    "ncvcvcv2m_lf[['ortho', 'freqlivres', 'freqfilms2']].head(1000)"
   ]
  },
  {
   "cell_type": "code",
   "execution_count": null,
   "id": "a6bee705",
   "metadata": {},
   "outputs": [],
   "source": [
    "cvcvcv_hf.to_csv('match_hf.csv')\n",
    "cvcvcv_lf.to_csv('match_lf.csv')\n",
    "ncvcvcv1m_hf.to_csv('1_mismatch_hf.csv')\n",
    "ncvcvcv1m_lf.to_csv('1_mismatch_lf.csv')\n",
    "ncvcvcv2m_hf.to_csv('2_mismatch_hf.csv')\n",
    "ncvcvcv2m_lf.to_csv('2_mismatch_lf.csv')\n"
   ]
  },
  {
   "cell_type": "markdown",
   "id": "33902356",
   "metadata": {},
   "source": [
    "# Pseudoword selection/Construction"
   ]
  },
  {
   "cell_type": "markdown",
   "id": "a9025067",
   "metadata": {},
   "source": [
    "Select randomally 10 words from each category and change them manually (the file of pseudowords is in the main folder)"
   ]
  },
  {
   "cell_type": "code",
   "execution_count": 121,
   "id": "29cab8e0",
   "metadata": {},
   "outputs": [],
   "source": [
    "n = 10\n",
    "\n",
    "#sample randomally 10 words from each category\n",
    "p_cvcvcv_hf = cvcvcv_hf.sample(n)\n",
    "p_cvcvcv_lf = cvcvcv_lf.sample(n)\n",
    "p_ncvcvcv1m_hf = ncvcvcv1m_hf.sample(n)\n",
    "p_ncvcvcv1m_lf = ncvcvcv1m_lf.sample(n)\n",
    "p_ncvcvcv2m_hf = ncvcvcv2m_hf.sample(n)\n",
    "p_ncvcvcv2m_lf = ncvcvcv2m_lf.sample(n)\n",
    "\n",
    "#combining the selected words:\n",
    "frames = [p_cvcvcv_hf,p_cvcvcv_lf,p_ncvcvcv1m_hf,p_ncvcvcv1m_lf,p_ncvcvcv2m_hf,p_ncvcvcv2m_lf]\n",
    "result = pd.concat(frames)\n",
    "\n",
    "#extracting the words into a csv file\n",
    "#result[['ortho', 'phon','p_cvcv', 'cvcv', 'nbsyll', 'nblettres']].to_csv('base_of_pseudo.csv')"
   ]
  },
  {
   "cell_type": "code",
   "execution_count": null,
   "id": "869a9faf",
   "metadata": {},
   "outputs": [],
   "source": []
  },
  {
   "cell_type": "code",
   "execution_count": null,
   "id": "724c6061",
   "metadata": {},
   "outputs": [],
   "source": []
  }
 ],
 "metadata": {
  "kernelspec": {
   "display_name": "Python 3 (ipykernel)",
   "language": "python",
   "name": "python3"
  },
  "language_info": {
   "codemirror_mode": {
    "name": "ipython",
    "version": 3
   },
   "file_extension": ".py",
   "mimetype": "text/x-python",
   "name": "python",
   "nbconvert_exporter": "python",
   "pygments_lexer": "ipython3",
   "version": "3.9.7"
  }
 },
 "nbformat": 4,
 "nbformat_minor": 5
}
