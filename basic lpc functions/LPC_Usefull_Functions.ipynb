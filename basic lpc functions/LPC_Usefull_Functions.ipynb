{
 "cells": [
  {
   "cell_type": "markdown",
   "id": "868fca77",
   "metadata": {},
   "source": [
    "In this notebook you can find functions to:\n",
    "1) Get the phonological LPC form of a word or a whole sentence\n",
    "\n",
    "2) Get the number of LPC gestures of a word or a whole sentence\n",
    "\n",
    "3) Get the LPC code for a word per gesture\n",
    "\n",
    "You can use this functions by running the next code at the begining of other notebooks:"
   ]
  },
  {
   "cell_type": "markdown",
   "id": "bc4b309f",
   "metadata": {},
   "source": [
    "import io\n",
    "import nbformat\n",
    "\n",
    "def execute_notebook(nbfile):\n",
    "    with io.open(nbfile, encoding=\"utf8\") as f:\n",
    "        nb = nbformat.read(f, as_version=4)\n",
    "\n",
    "    ip = get_ipython()\n",
    "\n",
    "    for cell in nb.cells:\n",
    "        if cell.cell_type != 'code':\n",
    "            continue\n",
    "        ip.run_cell(cell.source)\n",
    "        \n",
    "        \n",
    "execute_notebook(r\"C:\\Users\\hagar\\OneDrive - mail.tau.ac.il\\Desktop\\Stage\\LPC_2022\\basic lpc functions\\LPC_Usefull_Functions.ipynb\")\n"
   ]
  },
  {
   "cell_type": "markdown",
   "id": "b8a5c2f9",
   "metadata": {},
   "source": [
    "General functions:"
   ]
  },
  {
   "cell_type": "code",
   "execution_count": 2,
   "id": "babb922d",
   "metadata": {},
   "outputs": [],
   "source": [
    "def get_number_of_words(sentence):\n",
    "    sentence = sentence.replace('-',' ')\n",
    "    w_lst = sentence.split(' ')\n",
    "    return len(w_lst)\n"
   ]
  },
  {
   "cell_type": "code",
   "execution_count": 3,
   "id": "97bad43e",
   "metadata": {},
   "outputs": [],
   "source": [
    "def get_number_of_letters(sentence):\n",
    "    sentence = sentence.lower()\n",
    "    replace_chars = [',','.',' ']\n",
    "    for replace_char in replace_chars:\n",
    "        sentence = sentence.replace(replace_char,'')\n",
    "    return len(sentence)\n",
    "    "
   ]
  },
  {
   "cell_type": "markdown",
   "id": "0edd6d70",
   "metadata": {},
   "source": [
    "# Get the phonological LPC form of a word or a whole sentence"
   ]
  },
  {
   "cell_type": "code",
   "execution_count": 13,
   "id": "f01c7a0d",
   "metadata": {},
   "outputs": [],
   "source": [
    "# Openning lexique \n",
    "\n",
    "import numpy as np\n",
    "import pandas as pd\n",
    "\n",
    "\n",
    "lex = pd.read_csv(r\"C:\\Users\\hagar\\OneDrive - mail.tau.ac.il\\Desktop\\Stage\\LPC_2022\\basic lpc functions\\Lexique380.utf8.csv\")\n",
    "lex = lex[(lex.ortho.str.contains('-| ') == False) & (lex.phon.str.contains('°') == False)]  # suppress schwa\n",
    "lex = lex.drop_duplicates(subset='ortho', keep=\"first\")\n",
    "lex = lex[['ortho','phon', 'p_cvcv','nbhomogr','cv-cv','syll']]\n",
    "dic = lex.set_index('ortho').to_dict()\n",
    "\n",
    "p_dic = dic['p_cvcv']\n",
    "n_dic = dic['nbhomogr']\n",
    "cv_dic = dic['cv-cv']\n",
    "p_cv_dic = dic['syll']\n",
    "phon_dic = dic['phon']\n",
    "\n",
    "lex['cv-div'] = lex['cv-cv'].apply(lambda x: x.split('-'))"
   ]
  },
  {
   "cell_type": "code",
   "execution_count": 14,
   "id": "f604d367",
   "metadata": {},
   "outputs": [],
   "source": [
    "\n",
    "# Creating the possible configurations for 1 spoken syllable\n",
    "\n",
    "flat_list = [item for sublist in lex['cv-div'] for item in sublist]\n",
    "flat_set = set(flat_list)\n",
    "flatset_l = list(flat_set)\n",
    "\n",
    "\n",
    "\n",
    "lpc_syl_config = pd.DataFrame(flatset_l,columns =['spoken_config'])\n",
    "\n",
    "\n",
    "#lpc_syl_config.to_csv('lpc_syl_config.csv')\n"
   ]
  },
  {
   "cell_type": "code",
   "execution_count": 15,
   "id": "62e69480",
   "metadata": {},
   "outputs": [],
   "source": [
    "# number of gestures of each syll\n",
    "\n",
    "dev_syl = pd.read_csv(r\"C:\\Users\\hagar\\OneDrive - mail.tau.ac.il\\Desktop\\Stage\\LPC_2022\\basic lpc functions\\lpc_syl_configurations.csv\")\n",
    "dev_syl['lpc_n'] = dev_syl['LPC_config'].apply(lambda x: x.split('-'))\n",
    "dev_syl['lpc_n'] = dev_syl['lpc_n'].apply(lambda x: len(x))\n",
    "\n",
    "dic2 = dev_syl.set_index('spoken_config').to_dict()\n",
    "g_cv_dic = dic2['LPC_config']\n",
    "syl_dic = dic2['lpc_n']\n",
    "\n"
   ]
  },
  {
   "cell_type": "code",
   "execution_count": 3,
   "id": "93390120",
   "metadata": {},
   "outputs": [],
   "source": [
    "def get_LPC_cv(word):\n",
    "    LPC_cv = ''    \n",
    "    if word in cv_dic:\n",
    "        cv_lst = cv_dic[word].split('-')\n",
    "        for syl in cv_lst:\n",
    "            LPC_cv = LPC_cv + g_cv_dic[syl] + '-'\n",
    "        return LPC_cv[:-1]\n",
    "\n",
    "    else: \n",
    "        return word"
   ]
  },
  {
   "cell_type": "code",
   "execution_count": 4,
   "id": "aa71a7ee",
   "metadata": {},
   "outputs": [],
   "source": [
    "def get_LPC_p(word):\n",
    "    lpc_cv = get_LPC_cv(word)\n",
    "    new_word = ''\n",
    "    phon = phon_dic[word]\n",
    "    if lpc_cv == cv_dic[word]:\n",
    "        return p_cv_dic[word]\n",
    "    else:\n",
    "        l_lpc = lpc_cv.split('-')\n",
    "        for syl in l_lpc:\n",
    "            new_word += phon[:len(syl)]+'-'\n",
    "            phon = phon[len(syl):]\n",
    "        return new_word[:-1]\n"
   ]
  },
  {
   "cell_type": "code",
   "execution_count": 5,
   "id": "11697daa",
   "metadata": {},
   "outputs": [],
   "source": [
    "def get_LPC_p_sentence(sentence):\n",
    "    sentence = sentence.lower()\n",
    "    replace_chars = [',','.']\n",
    "    for replace_char in replace_chars:\n",
    "        sentence = sentence.replace(replace_char,'')\n",
    "        \n",
    "    sentence = sentence.replace('-', ' ')\n",
    "    snt_to_wlst = sentence.split(' ')\n",
    "    new_sentence = ''\n",
    "    no_in_db = []\n",
    "    more_ortho ={}\n",
    "\n",
    "    \n",
    "    for word in snt_to_wlst:\n",
    "        if word in cv_dic:\n",
    "            phon_w = get_LPC_p(word)\n",
    "            new_sentence += phon_w + '   '\n",
    "            if n_dic[word] != 1:\n",
    "                more_ortho[word] = phon_dic[word]\n",
    "        else: \n",
    "            no_in_db.append(word)\n",
    "        \n",
    "    \n",
    "    if no_in_db == [] and more_ortho == {}:\n",
    "        return new_sentence\n",
    "    if no_in_db == [] and more_ortho != {}:\n",
    "        return new_sentence + f',check the cv for: {more_ortho}'\n",
    "    else:\n",
    "        return new_sentence + f',except {no_in_db}, check the phon for: {more_ortho}'"
   ]
  },
  {
   "cell_type": "markdown",
   "id": "436e5274",
   "metadata": {},
   "source": [
    "# Get the number of LPC gestures of a word or a whole sentence"
   ]
  },
  {
   "cell_type": "code",
   "execution_count": 6,
   "id": "272aca5d",
   "metadata": {},
   "outputs": [],
   "source": [
    "def get_LPC_w(word):\n",
    "    LPC_gustures = 0     \n",
    "    if word in cv_dic:\n",
    "        cv_lst = cv_dic[word].split('-')\n",
    "        for syl in cv_lst:\n",
    "            LPC_gustures += syl_dic[syl]\n",
    "        return LPC_gustures\n",
    "\n",
    "    else: \n",
    "        return word"
   ]
  },
  {
   "cell_type": "code",
   "execution_count": 7,
   "id": "7686dbd9",
   "metadata": {},
   "outputs": [],
   "source": [
    "def get_LPC_g(sentence):\n",
    "    sentence = sentence.lower()\n",
    "    replace_chars = [',','.']\n",
    "    for replace_char in replace_chars:\n",
    "        sentence = sentence.replace(replace_char,'')\n",
    "        \n",
    "    sentence = sentence.replace('-', ' ')\n",
    "    snt_to_wlst = sentence.split(' ')\n",
    "    LPC_gustures = 0 \n",
    "    no_in_db = []\n",
    "    more_ortho ={}\n",
    "\n",
    "    \n",
    "    for word in snt_to_wlst:\n",
    "        if word in cv_dic:\n",
    "            LPC_gustures += get_LPC_w(word)\n",
    "            if n_dic[word] != 1:\n",
    "                more_ortho[word] = get_LPC_w(word)\n",
    "        else: \n",
    "            no_in_db.append(word)\n",
    "        \n",
    "    \n",
    "    if no_in_db == [] and more_ortho == []:\n",
    "        return f'{LPC_gustures}'\n",
    "    if no_in_db == [] and more_ortho != []:\n",
    "        return f'{LPC_gustures}, check the cv for: {more_ortho}'\n",
    "    else:\n",
    "        return f'{LPC_gustures}, except {no_in_db}, check the cv for: {more_ortho}'\n"
   ]
  },
  {
   "cell_type": "code",
   "execution_count": 8,
   "id": "c658931c",
   "metadata": {},
   "outputs": [],
   "source": [
    "def get_LPC_g1(sentence):\n",
    "    sentence = sentence.lower()\n",
    "    sentence = sentence.replace('.', '')\n",
    "    sentence = sentence.replace('-', ' ')\n",
    "    snt_to_wlst = sentence.split(\" \")\n",
    "    LPC_gustures = 0 \n",
    "    e = 0\n",
    "    no_in_db = []\n",
    "    more_ortho ={}\n",
    "\n",
    "    \n",
    "    for word in snt_to_wlst:\n",
    "        if word in p_dic:\n",
    "            #print(word, p_dic[word])\n",
    "            e = 1\n",
    "            if p_dic[word][0] == 'V':\n",
    "                LPC_gustures += 1\n",
    "            for letter in p_dic[word]:\n",
    "                if letter == 'C':\n",
    "                    LPC_gustures += 1\n",
    "            if n_dic[word] != 1:\n",
    "                more_ortho[word] = p_dic[word]\n",
    "\n",
    "        else: \n",
    "            e = 0\n",
    "        if e == 0 :\n",
    "            no_in_db.append(word)\n",
    "        \n",
    "    \n",
    "    if no_in_db == [] and more_ortho == []:\n",
    "        return f'{LPC_gustures}'\n",
    "    if no_in_db == [] and more_ortho != []:\n",
    "        return f'{LPC_gustures}, check the cv for: {more_ortho}'\n",
    "    else:\n",
    "        return f'{LPC_gustures}, except {no_in_db}, check the cv for: {more_ortho}'\n"
   ]
  },
  {
   "cell_type": "markdown",
   "id": "085bf8c4",
   "metadata": {},
   "source": [
    "# Get the LPC code for word per gesture"
   ]
  },
  {
   "cell_type": "code",
   "execution_count": 30,
   "id": "31af7c88",
   "metadata": {},
   "outputs": [],
   "source": [
    "#lpc coding, based on the article: https://hal.archives-ouvertes.fr/hal-00266052/document\n",
    "position = {'a': '0', 'o': '0', '9': '0', '5': '1', '2': '1', 'i': '2', '§': '2', '@': '2', 'E': '3', 'u': '3', 'O': '3', '1': '4', 'y': '4', 'e': '4'}\n",
    "configuration = {'p': '0', 'd': '0', 'Z': '0', 'k': '1', 'v': '1', 'z': '1', 's': '2', 'R': '2', 'b': '3', 'n': '3', '8': '3', 't': '4', 'm': '4', 'f': '4', 'l': '5', 'S': '5', 'N': '5', 'w': '5', 'g': '6', 'j': '7', 'G': '7'}\n",
    "poa = {'p': '0', 'b': '0', 'm': '0', 'f': '1', 'v': '1', 't': '2', 'd': '2', 's': '2','z':'2','n':'2', 'N': '2', 'G': '2', 'S': '3', 'Z': '3', 'k': '4', 'g': '4', 'R': '4', 'l': '4', 'j':'*', '8':'*', 'w':'*'}\n",
    "rounding = {'O':'0','y': '0', 'o': '0', '2': '0', 'u': '0', 'a': '1', '5': '1', 'i': '1', '1': '1', 'e': '1', 'E': '1','@': '2','§': '2', '9': '2'}\n",
    "\n",
    "\n",
    "def lpc_code(word):\n",
    "    code_word = \"\"\n",
    "    syll_lst = get_LPC_p(word).split(\"-\")\n",
    "    for syll in syll_lst:\n",
    "        if len(syll) == 1:\n",
    "            if syll in configuration:\n",
    "                code_word += configuration[syll]\n",
    "                code_word += poa[syll]\n",
    "                code_word += '0/'\n",
    "            else:\n",
    "                code_word += '5/'\n",
    "                code_word += position[syll]\n",
    "                code_word += rounding[syll]\n",
    "        else:\n",
    "            for i in range (0,len(syll)):\n",
    "                if syll[i] in configuration:\n",
    "                    code_word += configuration[syll[i]]\n",
    "                    code_word += poa[syll[i]]\n",
    "                else:\n",
    "                    code_word += position[syll[i]]\n",
    "                    code_word += rounding[syll[i]]\n",
    "        code_word += '-'\n",
    "    return code_word[:-1]\n"
   ]
  },
  {
   "cell_type": "code",
   "execution_count": 37,
   "id": "250f373a",
   "metadata": {},
   "outputs": [
    {
     "name": "stdout",
     "output_type": "stream",
     "text": [
      "ta-b-l\n"
     ]
    },
    {
     "data": {
      "text/plain": [
       "'4201-300/-540/'"
      ]
     },
     "execution_count": 37,
     "metadata": {},
     "output_type": "execute_result"
    }
   ],
   "source": [
    "print(get_LPC_p('table'))\n",
    "lpc_code('table')\n",
    "\n"
   ]
  },
  {
   "cell_type": "markdown",
   "id": "1cbeccb5",
   "metadata": {},
   "source": [
    "# mapping all possible combinations, not sure it's usefull but it's nice to have\n",
    "\n",
    "\n",
    "mat = []\n",
    "rounding = [0,1,2]\n",
    "poa = [0,1,2,3,4]\n",
    "position = [0,1,2,3,4]\n",
    "shape = [0,1,2,3,4,5,6,7]\n",
    "\n",
    "for x in rounding:\n",
    "    for y in poa:\n",
    "        for i in position:\n",
    "            for z in shape:\n",
    "                mat.append([x,y,i,z])\n",
    "                \n",
    "mat = np.array(mat)\n",
    "mat = pd.DataFrame(mat)\n",
    "#mat.to_csv('cv_combinations.csv')\n"
   ]
  }
 ],
 "metadata": {
  "kernelspec": {
   "display_name": "Python 3 (ipykernel)",
   "language": "python",
   "name": "python3"
  },
  "language_info": {
   "codemirror_mode": {
    "name": "ipython",
    "version": 3
   },
   "file_extension": ".py",
   "mimetype": "text/x-python",
   "name": "python",
   "nbconvert_exporter": "python",
   "pygments_lexer": "ipython3",
   "version": "3.9.7"
  }
 },
 "nbformat": 4,
 "nbformat_minor": 5
}
